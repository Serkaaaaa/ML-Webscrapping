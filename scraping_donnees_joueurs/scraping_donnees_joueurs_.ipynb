{
 "cells": [
  {
   "cell_type": "code",
   "execution_count": 1,
   "metadata": {},
   "outputs": [],
   "source": [
    "from requests import get\n",
    "from bs4 import BeautifulSoup\n",
    "from dataclasses import dataclass\n",
    "import json\n",
    "from typing import TypedDict\n",
    "import os\n",
    "import time\n",
    "import polars as pl"
   ]
  },
  {
   "cell_type": "code",
   "execution_count": 2,
   "metadata": {},
   "outputs": [],
   "source": [
    "class Joueur(TypedDict):\n",
    "    rank: str\n",
    "    pays: str\n",
    "    lien_joueur: str\n",
    "    nom_joueur: str\n",
    "    pays_abreviation: str\n",
    "    age: str\n",
    "    points: str"
   ]
  },
  {
   "cell_type": "code",
   "execution_count": 3,
   "metadata": {},
   "outputs": [],
   "source": [
    "current_dir: str = os.getcwd()\n",
    "\n",
    "parent_dir: str = os.path.dirname(current_dir)\n",
    "\n",
    "file_path: str = os.path.join(parent_dir, \"scraping_top_900_H\", \"joueurs.json\")\n",
    "\n",
    "# Charger le JSON\n",
    "with open(file_path, \"r\") as fichier:\n",
    "    joueurs:list[dict] = json.load(fichier)\n",
    "    assert len(joueurs) == 900"
   ]
  },
  {
   "cell_type": "code",
   "execution_count": 4,
   "metadata": {},
   "outputs": [
    {
     "name": "stdout",
     "output_type": "stream",
     "text": [
      "https://www.tennisendirect.net/atp/jannik-sinner/\n"
     ]
    }
   ],
   "source": [
    "print(joueurs[0]['lien_joueur'])"
   ]
  },
  {
   "cell_type": "code",
   "execution_count": 4,
   "metadata": {},
   "outputs": [],
   "source": [
    "liens_joueurs = (joueurs[i]['lien_joueur'] for i in range(len(joueurs)))"
   ]
  },
  {
   "cell_type": "code",
   "execution_count": 5,
   "metadata": {},
   "outputs": [
    {
     "data": {
      "text/plain": [
       "<generator object <genexpr> at 0x0000020935360C70>"
      ]
     },
     "execution_count": 5,
     "metadata": {},
     "output_type": "execute_result"
    }
   ],
   "source": [
    "liens_joueurs"
   ]
  },
  {
   "cell_type": "code",
   "execution_count": 6,
   "metadata": {},
   "outputs": [],
   "source": [
    "def get_page_joueur(liste_lien_joueur):\n",
    "    for lien in liste_lien_joueur:\n",
    "        reponse = get(lien)\n",
    "        print(lien, reponse.status_code)\n",
    "        assert reponse.status_code == 200\n",
    "        time.sleep(2)"
   ]
  },
  {
   "cell_type": "code",
   "execution_count": 8,
   "metadata": {},
   "outputs": [
    {
     "name": "stdout",
     "output_type": "stream",
     "text": [
      "https://www.tennisendirect.net/atp/jannik-sinner/ 200\n"
     ]
    },
    {
     "ename": "KeyboardInterrupt",
     "evalue": "",
     "output_type": "error",
     "traceback": [
      "\u001b[1;31m---------------------------------------------------------------------------\u001b[0m",
      "\u001b[1;31mKeyboardInterrupt\u001b[0m                         Traceback (most recent call last)",
      "Cell \u001b[1;32mIn[8], line 1\u001b[0m\n\u001b[1;32m----> 1\u001b[0m \u001b[43mget_page_joueur\u001b[49m\u001b[43m(\u001b[49m\u001b[43mliens_joueurs\u001b[49m\u001b[43m)\u001b[49m\n",
      "Cell \u001b[1;32mIn[7], line 6\u001b[0m, in \u001b[0;36mget_page_joueur\u001b[1;34m(liste_lien_joueur)\u001b[0m\n\u001b[0;32m      4\u001b[0m \u001b[38;5;28mprint\u001b[39m(lien, reponse\u001b[38;5;241m.\u001b[39mstatus_code)\n\u001b[0;32m      5\u001b[0m \u001b[38;5;28;01massert\u001b[39;00m reponse\u001b[38;5;241m.\u001b[39mstatus_code \u001b[38;5;241m==\u001b[39m \u001b[38;5;241m200\u001b[39m\n\u001b[1;32m----> 6\u001b[0m \u001b[43mtime\u001b[49m\u001b[38;5;241;43m.\u001b[39;49m\u001b[43msleep\u001b[49m\u001b[43m(\u001b[49m\u001b[38;5;241;43m2\u001b[39;49m\u001b[43m)\u001b[49m\n",
      "\u001b[1;31mKeyboardInterrupt\u001b[0m: "
     ]
    }
   ],
   "source": [
    "get_page_joueur(liens_joueurs)"
   ]
  }
 ],
 "metadata": {
  "kernelspec": {
   "display_name": "env",
   "language": "python",
   "name": "python3"
  },
  "language_info": {
   "codemirror_mode": {
    "name": "ipython",
    "version": 3
   },
   "file_extension": ".py",
   "mimetype": "text/x-python",
   "name": "python",
   "nbconvert_exporter": "python",
   "pygments_lexer": "ipython3",
   "version": "3.12.7"
  }
 },
 "nbformat": 4,
 "nbformat_minor": 2
}
