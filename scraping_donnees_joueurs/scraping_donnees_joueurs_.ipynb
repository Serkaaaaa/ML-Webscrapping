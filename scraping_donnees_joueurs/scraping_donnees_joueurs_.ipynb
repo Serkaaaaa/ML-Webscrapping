{
 "cells": [
  {
   "cell_type": "code",
   "execution_count": 1,
   "metadata": {},
   "outputs": [],
   "source": [
    "from requests import get\n",
    "from bs4 import BeautifulSoup\n",
    "from dataclasses import dataclass\n",
    "import json\n",
    "from typing import TypedDict\n",
    "import os\n",
    "import time"
   ]
  },
  {
   "cell_type": "code",
   "execution_count": 2,
   "metadata": {},
   "outputs": [],
   "source": [
    "class Joueur(TypedDict):\n",
    "    rank: str\n",
    "    pays: str\n",
    "    lien_joueur: str\n",
    "    nom_joueur: str\n",
    "    pays_abreviation: str\n",
    "    age: str\n",
    "    points: str"
   ]
  },
  {
   "cell_type": "code",
   "execution_count": 3,
   "metadata": {},
   "outputs": [],
   "source": [
    "current_dir: str = os.getcwd()\n",
    "\n",
    "parent_dir: str = os.path.dirname(current_dir)\n",
    "\n",
    "file_path: str = os.path.join(parent_dir, \"scraping_top_900_H\", \"joueurs.json\")\n",
    "\n",
    "# Charger le JSON\n",
    "with open(file_path, \"r\") as fichier:\n",
    "    joueurs:list[dict] = json.load(fichier)\n",
    "    assert len(joueurs) == 900"
   ]
  },
  {
   "cell_type": "code",
   "execution_count": 4,
   "metadata": {},
   "outputs": [
    {
     "name": "stdout",
     "output_type": "stream",
     "text": [
      "https://www.tennisendirect.net/atp/jannik-sinner/\n"
     ]
    }
   ],
   "source": [
    "print(joueurs[0]['lien_joueur'])"
   ]
  },
  {
   "cell_type": "code",
   "execution_count": 5,
   "metadata": {},
   "outputs": [],
   "source": [
    "liens_joueurs = (joueurs[i]['lien_joueur'] for i in range(len(joueurs)))"
   ]
  },
  {
   "cell_type": "code",
   "execution_count": 6,
   "metadata": {},
   "outputs": [
    {
     "data": {
      "text/plain": [
       "<generator object <genexpr> at 0x00000228B003B850>"
      ]
     },
     "execution_count": 6,
     "metadata": {},
     "output_type": "execute_result"
    }
   ],
   "source": [
    "liens_joueurs"
   ]
  },
  {
   "cell_type": "markdown",
   "metadata": {},
   "source": [
    "# Test de récupération des stats d'un joueur (Sinner)"
   ]
  },
  {
   "cell_type": "code",
   "execution_count": 7,
   "metadata": {},
   "outputs": [],
   "source": [
    "Sinner = \"https://www.tennisendirect.net/atp/jannik-sinner/\""
   ]
  },
  {
   "cell_type": "code",
   "execution_count": 8,
   "metadata": {},
   "outputs": [
    {
     "name": "stdout",
     "output_type": "stream",
     "text": [
      "https://www.tennisendirect.net/atp/jannik-sinner/ 200\n"
     ]
    }
   ],
   "source": [
    "reponse = get(Sinner)\n",
    "print(Sinner, reponse.status_code)\n",
    "assert reponse.status_code == 200"
   ]
  },
  {
   "cell_type": "code",
   "execution_count": 9,
   "metadata": {},
   "outputs": [],
   "source": [
    "detail_Sinner= BeautifulSoup(reponse.text, features=\"lxml\")"
   ]
  },
  {
   "cell_type": "code",
   "execution_count": 10,
   "metadata": {},
   "outputs": [],
   "source": [
    "profil = detail_Sinner.find_all(\"div\", attrs={\"class\": \"player_stats\"})\n",
    "assert len(profil) == 1\n",
    "statistiques = detail_Sinner.find_all(\"table\", attrs={\"class\": \"table_stats\"})\n",
    "assert len(statistiques) == 1\n",
    "*_, derniers_match = detail_Sinner.find_all(\"table\", attrs={\"class\": \"table_pmatches\"})"
   ]
  },
  {
   "cell_type": "code",
   "execution_count": 11,
   "metadata": {},
   "outputs": [
    {
     "data": {
      "text/plain": [
       "bs4.element.ResultSet"
      ]
     },
     "execution_count": 11,
     "metadata": {},
     "output_type": "execute_result"
    }
   ],
   "source": [
    "type(statistiques)"
   ]
  },
  {
   "cell_type": "code",
   "execution_count": 12,
   "metadata": {},
   "outputs": [
    {
     "name": "stdout",
     "output_type": "stream",
     "text": [
      "profil: [<div class=\"player_stats\">\n",
      "            Nom: <b><a href=\"https://www.tennisendirect.net/atp/jannik-sinner/\" title=\"Jannik Sinner\">Jannik Sinner</a></b><br/>            Pays: <b>Italy</b><br/>            Date de naissance: <b>16.08.01, 23 ans</b><br/> <a href=\"https://www.tennisendirect.net/atp/classement/\" title=\"Position dans le classement\">Classement ATP</a>: <b>1</b><br/>            TOP position dans le classement: <b>1</b> (04.11.24, 11330 points)<br/>            Points: <b>11330</b><br/>            Primes: <b>17043434 $</b><br/>            Total de matchs: <b>483</b><br/>            Victoires: <b>348</b><br/>            Taux de réussite: <b>72.05 %</b><br/>\n",
      "</div>] \n",
      " stats: [<table class=\"table_stats\">\n",
      "<tr class=\"header\"><td>année</td><td>sommaire</td><td><a href=\"?su=1\" rel=\"nofollow\" title=\"surface: dure\">dure</a></td><td><a href=\"?su=2\" rel=\"nofollow\" title=\"surface: terre battue\">terre battue</a></td><td><a href=\"?su=3\" rel=\"nofollow\" title=\"surface: salle\">salle</a></td><td><a href=\"?su=4\" rel=\"nofollow\" title=\"surface: carpet\">carpet</a></td><td><a href=\"?su=5\" rel=\"nofollow\" title=\"surface: gazon\">gazon</a></td><td><a href=\"?su=6\" rel=\"nofollow\" title=\"surface: acryl\">acryl</a></td></tr><tr class=\"pair\"><td><a href=\"?y=2024\" rel='\\\"nofollow\\\"' title=\"année: 2024\">2024</a></td><td>66/7</td><td><a href=\"?su=1&amp;y=2024\" rel=\"nofollow\" title=\"surface: dure, année: 2024, victoires: 41, défaites: 3, Taux de réussite: 93.18 %\">41/3</a></td><td><a href=\"?su=2&amp;y=2024\" rel=\"nofollow\" title=\"surface: terre battue, année: 2024, victoires: 11, défaites: 3, Taux de réussite: 78.57 %\">11/3</a></td><td><a href=\"?su=3&amp;y=2024\" rel=\"nofollow\" title=\"surface: salle, année: 2024, victoires: 5, défaites: 0, Taux de réussite: 100 %\">5/0</a></td><td><a href=\"?su=4&amp;y=2024\" rel=\"nofollow\" title=\"surface: carpet, année: 2024, victoires: 0, défaites: 0, Taux de réussite: 0 %\">0/0</a></td><td><a href=\"?su=5&amp;y=2024\" rel=\"nofollow\" title=\"surface: gazon, année: 2024, victoires: 9, défaites: 1, Taux de réussite: 90 %\">9/1</a></td><td><a href=\"?su=6&amp;y=2024\" rel=\"nofollow\" title=\"surface: acryl, année: 2024, victoires: 0, défaites: 0, Taux de réussite: 0 %\">0/0</a></td></tr><tr class=\"unpair\"><td><a href=\"?y=2023\" rel='\\\"nofollow\\\"' title=\"année: 2023\">2023</a></td><td>66/18</td><td><a href=\"?su=1&amp;y=2023\" rel=\"nofollow\" title=\"surface: dure, année: 2023, victoires: 29, défaites: 7, Taux de réussite: 80.56 %\">29/7</a></td><td><a href=\"?su=2&amp;y=2023\" rel=\"nofollow\" title=\"surface: terre battue, année: 2023, victoires: 8, défaites: 4, Taux de réussite: 66.67 %\">8/4</a></td><td><a href=\"?su=3&amp;y=2023\" rel=\"nofollow\" title=\"surface: salle, année: 2023, victoires: 21, défaites: 4, Taux de réussite: 84 %\">21/4</a></td><td><a href=\"?su=4&amp;y=2023\" rel=\"nofollow\" title=\"surface: carpet, année: 2023, victoires: 0, défaites: 0, Taux de réussite: 0 %\">0/0</a></td><td><a href=\"?su=5&amp;y=2023\" rel=\"nofollow\" title=\"surface: gazon, année: 2023, victoires: 8, défaites: 3, Taux de réussite: 72.73 %\">8/3</a></td><td><a href=\"?su=6&amp;y=2023\" rel=\"nofollow\" title=\"surface: acryl, année: 2023, victoires: 0, défaites: 0, Taux de réussite: 0 %\">0/0</a></td></tr><tr class=\"pair\"><td><a href=\"?y=2022\" rel='\\\"nofollow\\\"' title=\"année: 2022\">2022</a></td><td>47/17</td><td><a href=\"?su=1&amp;y=2022\" rel=\"nofollow\" title=\"surface: dure, année: 2022, victoires: 21, défaites: 7, Taux de réussite: 75 %\">21/7</a></td><td><a href=\"?su=2&amp;y=2022\" rel=\"nofollow\" title=\"surface: terre battue, année: 2022, victoires: 15, défaites: 4, Taux de réussite: 78.95 %\">15/4</a></td><td><a href=\"?su=3&amp;y=2022\" rel=\"nofollow\" title=\"surface: salle, année: 2022, victoires: 7, défaites: 4, Taux de réussite: 63.64 %\">7/4</a></td><td><a href=\"?su=4&amp;y=2022\" rel=\"nofollow\" title=\"surface: carpet, année: 2022, victoires: 0, défaites: 0, Taux de réussite: 0 %\">0/0</a></td><td><a href=\"?su=5&amp;y=2022\" rel=\"nofollow\" title=\"surface: gazon, année: 2022, victoires: 4, défaites: 2, Taux de réussite: 66.67 %\">4/2</a></td><td><a href=\"?su=6&amp;y=2022\" rel=\"nofollow\" title=\"surface: acryl, année: 2022, victoires: 0, défaites: 0, Taux de réussite: 0 %\">0/0</a></td></tr><tr class=\"unpair\"><td><a href=\"?y=2021\" rel='\\\"nofollow\\\"' title=\"année: 2021\">2021</a></td><td>50/24</td><td><a href=\"?su=1&amp;y=2021\" rel=\"nofollow\" title=\"surface: dure, année: 2021, victoires: 23, défaites: 10, Taux de réussite: 69.7 %\">23/10</a></td><td><a href=\"?su=2&amp;y=2021\" rel=\"nofollow\" title=\"surface: terre battue, année: 2021, victoires: 10, défaites: 6, Taux de réussite: 62.5 %\">10/6</a></td><td><a href=\"?su=3&amp;y=2021\" rel=\"nofollow\" title=\"surface: salle, année: 2021, victoires: 17, défaites: 6, Taux de réussite: 73.91 %\">17/6</a></td><td><a href=\"?su=4&amp;y=2021\" rel=\"nofollow\" title=\"surface: carpet, année: 2021, victoires: 0, défaites: 0, Taux de réussite: 0 %\">0/0</a></td><td><a href=\"?su=5&amp;y=2021\" rel=\"nofollow\" title=\"surface: gazon, année: 2021, victoires: 0, défaites: 2, Taux de réussite: 0 %\">0/2</a></td><td><a href=\"?su=6&amp;y=2021\" rel=\"nofollow\" title=\"surface: acryl, année: 2021, victoires: 0, défaites: 0, Taux de réussite: 0 %\">0/0</a></td></tr><tr class=\"pair\"><td><a href=\"?y=2020\" rel='\\\"nofollow\\\"' title=\"année: 2020\">2020</a></td><td>24/16</td><td><a href=\"?su=1&amp;y=2020\" rel=\"nofollow\" title=\"surface: dure, année: 2020, victoires: 2, défaites: 6, Taux de réussite: 25 %\">2/6</a></td><td><a href=\"?su=2&amp;y=2020\" rel=\"nofollow\" title=\"surface: terre battue, année: 2020, victoires: 10, défaites: 5, Taux de réussite: 66.67 %\">10/5</a></td><td><a href=\"?su=3&amp;y=2020\" rel=\"nofollow\" title=\"surface: salle, année: 2020, victoires: 12, défaites: 5, Taux de réussite: 70.59 %\">12/5</a></td><td><a href=\"?su=4&amp;y=2020\" rel=\"nofollow\" title=\"surface: carpet, année: 2020, victoires: 0, défaites: 0, Taux de réussite: 0 %\">0/0</a></td><td><a href=\"?su=5&amp;y=2020\" rel=\"nofollow\" title=\"surface: gazon, année: 2020, victoires: 0, défaites: 0, Taux de réussite: 0 %\">0/0</a></td><td><a href=\"?su=6&amp;y=2020\" rel=\"nofollow\" title=\"surface: acryl, année: 2020, victoires: 0, défaites: 0, Taux de réussite: 0 %\">0/0</a></td></tr><tr class=\"unpair\"><td><a href=\"?y=2019\" rel='\\\"nofollow\\\"' title=\"année: 2019\">2019</a></td><td>62/24</td><td><a href=\"?su=1&amp;y=2019\" rel=\"nofollow\" title=\"surface: dure, année: 2019, victoires: 12, défaites: 6, Taux de réussite: 66.67 %\">12/6</a></td><td><a href=\"?su=2&amp;y=2019\" rel=\"nofollow\" title=\"surface: terre battue, année: 2019, victoires: 17, défaites: 8, Taux de réussite: 68 %\">17/8</a></td><td><a href=\"?su=3&amp;y=2019\" rel=\"nofollow\" title=\"surface: salle, année: 2019, victoires: 31, défaites: 7, Taux de réussite: 81.58 %\">31/7</a></td><td><a href=\"?su=4&amp;y=2019\" rel=\"nofollow\" title=\"surface: carpet, année: 2019, victoires: 0, défaites: 0, Taux de réussite: 0 %\">0/0</a></td><td><a href=\"?su=5&amp;y=2019\" rel=\"nofollow\" title=\"surface: gazon, année: 2019, victoires: 2, défaites: 3, Taux de réussite: 40 %\">2/3</a></td><td><a href=\"?su=6&amp;y=2019\" rel=\"nofollow\" title=\"surface: acryl, année: 2019, victoires: 0, défaites: 0, Taux de réussite: 0 %\">0/0</a></td></tr><tr class=\"pair\"><td><a href=\"?y=2018\" rel='\\\"nofollow\\\"' title=\"année: 2018\">2018</a></td><td>31/23</td><td><a href=\"?su=1&amp;y=2018\" rel=\"nofollow\" title=\"surface: dure, année: 2018, victoires: 13, défaites: 9, Taux de réussite: 59.09 %\">13/9</a></td><td><a href=\"?su=2&amp;y=2018\" rel=\"nofollow\" title=\"surface: terre battue, année: 2018, victoires: 17, défaites: 12, Taux de réussite: 58.62 %\">17/12</a></td><td><a href=\"?su=3&amp;y=2018\" rel=\"nofollow\" title=\"surface: salle, année: 2018, victoires: 1, défaites: 1, Taux de réussite: 50 %\">1/1</a></td><td><a href=\"?su=4&amp;y=2018\" rel=\"nofollow\" title=\"surface: carpet, année: 2018, victoires: 0, défaites: 1, Taux de réussite: 0 %\">0/1</a></td><td><a href=\"?su=5&amp;y=2018\" rel=\"nofollow\" title=\"surface: gazon, année: 2018, victoires: 0, défaites: 0, Taux de réussite: 0 %\">0/0</a></td><td><a href=\"?su=6&amp;y=2018\" rel=\"nofollow\" title=\"surface: acryl, année: 2018, victoires: 0, défaites: 0, Taux de réussite: 0 %\">0/0</a></td></tr><tr class=\"unpair\"><td><a href=\"?y=2017\" rel='\\\"nofollow\\\"' title=\"année: 2017\">2017</a></td><td>1/2</td><td><a href=\"?su=1&amp;y=2017\" rel=\"nofollow\" title=\"surface: dure, année: 2017, victoires: 0, défaites: 0, Taux de réussite: 0 %\">0/0</a></td><td><a href=\"?su=2&amp;y=2017\" rel=\"nofollow\" title=\"surface: terre battue, année: 2017, victoires: 1, défaites: 2, Taux de réussite: 33.33 %\">1/2</a></td><td><a href=\"?su=3&amp;y=2017\" rel=\"nofollow\" title=\"surface: salle, année: 2017, victoires: 0, défaites: 0, Taux de réussite: 0 %\">0/0</a></td><td><a href=\"?su=4&amp;y=2017\" rel=\"nofollow\" title=\"surface: carpet, année: 2017, victoires: 0, défaites: 0, Taux de réussite: 0 %\">0/0</a></td><td><a href=\"?su=5&amp;y=2017\" rel=\"nofollow\" title=\"surface: gazon, année: 2017, victoires: 0, défaites: 0, Taux de réussite: 0 %\">0/0</a></td><td><a href=\"?su=6&amp;y=2017\" rel=\"nofollow\" title=\"surface: acryl, année: 2017, victoires: 0, défaites: 0, Taux de réussite: 0 %\">0/0</a></td></tr><tr class=\"pair\"><td><a href=\"?y=2016\" rel='\\\"nofollow\\\"' title=\"année: 2016\">2016</a></td><td>1/2</td><td><a href=\"?su=1&amp;y=2016\" rel=\"nofollow\" title=\"surface: dure, année: 2016, victoires: 0, défaites: 0, Taux de réussite: 0 %\">0/0</a></td><td><a href=\"?su=2&amp;y=2016\" rel=\"nofollow\" title=\"surface: terre battue, année: 2016, victoires: 1, défaites: 2, Taux de réussite: 33.33 %\">1/2</a></td><td><a href=\"?su=3&amp;y=2016\" rel=\"nofollow\" title=\"surface: salle, année: 2016, victoires: 0, défaites: 0, Taux de réussite: 0 %\">0/0</a></td><td><a href=\"?su=4&amp;y=2016\" rel=\"nofollow\" title=\"surface: carpet, année: 2016, victoires: 0, défaites: 0, Taux de réussite: 0 %\">0/0</a></td><td><a href=\"?su=5&amp;y=2016\" rel=\"nofollow\" title=\"surface: gazon, année: 2016, victoires: 0, défaites: 0, Taux de réussite: 0 %\">0/0</a></td><td><a href=\"?su=6&amp;y=2016\" rel=\"nofollow\" title=\"surface: acryl, année: 2016, victoires: 0, défaites: 0, Taux de réussite: 0 %\">0/0</a></td></tr><tr class=\"unpair\"><td><a href=\"?y=2015\" rel='\\\"nofollow\\\"' title=\"année: 2015\">2015</a></td><td>0/2</td><td><a href=\"?su=1&amp;y=2015\" rel=\"nofollow\" title=\"surface: dure, année: 2015, victoires: 0, défaites: 0, Taux de réussite: 0 %\">0/0</a></td><td><a href=\"?su=2&amp;y=2015\" rel=\"nofollow\" title=\"surface: terre battue, année: 2015, victoires: 0, défaites: 2, Taux de réussite: 0 %\">0/2</a></td><td><a href=\"?su=3&amp;y=2015\" rel=\"nofollow\" title=\"surface: salle, année: 2015, victoires: 0, défaites: 0, Taux de réussite: 0 %\">0/0</a></td><td><a href=\"?su=4&amp;y=2015\" rel=\"nofollow\" title=\"surface: carpet, année: 2015, victoires: 0, défaites: 0, Taux de réussite: 0 %\">0/0</a></td><td><a href=\"?su=5&amp;y=2015\" rel=\"nofollow\" title=\"surface: gazon, année: 2015, victoires: 0, défaites: 0, Taux de réussite: 0 %\">0/0</a></td><td><a href=\"?su=6&amp;y=2015\" rel=\"nofollow\" title=\"surface: acryl, année: 2015, victoires: 0, défaites: 0, Taux de réussite: 0 %\">0/0</a></td></tr><tr class=\"footer\"><td><b>TOTAL</b></td><td>348/135</td><td><a href=\"?su=1\" rel='\\\"nofollow\\\"' title=\"surface: dure\">141/48</a></td><td><a href=\"?su=2\" rel='\\\"nofollow\\\"' title=\"surface: terre battue\">90/48</a></td><td><a href=\"?su=3\" rel='\\\"nofollow\\\"' title=\"surface: salle\">94/27</a></td><td><a href=\"?su=4\" rel='\\\"nofollow\\\"' title=\"surface: carpet\">0/1</a></td><td><a href=\"?su=5\" rel='\\\"nofollow\\\"' title=\"surface: gazon\">23/11</a></td><td><a href=\"?su=6\" rel='\\\"nofollow\\\"' title=\"surface: acryl\">0/0</a></td></tr><tr class=\"footer1\"><td>réus. %</td><td>72.05 %</td><td>74.6 %</td><td>65.22 %</td><td>77.69 %</td><td>0 %</td><td>67.65 %</td><td>0 %</td></tr>\n",
      "</table>] \n",
      " matchs: <table class=\"table_pmatches\">\n",
      "<tr class=\"tour_head pair\"><td align=\"center\" class=\"w50\">13.10.24</td><td align=\"center\" class=\"w50\">Finale</td><td class=\"w130\"><b>Jannik Sinner</b></td><td class=\"w130\"><a href=\"https://www.tennisendirect.net/atp/novak-djokovic/\" title=\"\">Novak Djokovic</a></td><td class=\"w130\">7-6<sup>4</sup>, 6-3  </td><td class=\"w16\"><img alt=\"victoire\" height=\"15\" src=\"https://www.tennisendirect.net/styles/images/ok.gif\" width=\"15\"/></td><td align=\"center\" class=\"w50\"><a href=\"https://www.tennisendirect.net/atp/match/jannik-sinner-VS-novak-djokovic/shanghai-rolex-masters-shanghai-2024/\" title=\"détail du match\">détail du match</a></td><td class=\"w200\" rowspan=\"6\"><img alt=\"China\" height=\"16\" src=\"https://www.tennisendirect.net/flags/flag_china.png\" width=\"16\"/> <a href=\"https://www.tennisendirect.net/hommes/shanghai-rolex-masters-shanghai-2024/\" title=\"Shanghai Rolex Masters - Shanghai / $10.2M\">Shanghai </a></td><td class=\"w40 surf_1\" rowspan=\"6\">dure</td></tr><tr class=\"unpair\"><td align=\"center\" class=\"w50\">12.10.24</td><td align=\"center\" class=\"w50\">Demi-finale</td><td class=\"w130\"><b>Jannik Sinner</b></td><td class=\"w130\"><a href=\"https://www.tennisendirect.net/atp/tomas-machac/\" title=\"\">Tomas Machac</a></td><td class=\"w130\">6-4, 7-5  </td><td class=\"w16\"><img alt=\"victoire\" height=\"15\" src=\"https://www.tennisendirect.net/styles/images/ok.gif\" width=\"15\"/></td><td align=\"center\" class=\"w50\"><a href=\"https://www.tennisendirect.net/atp/match/jannik-sinner-VS-tomas-machac/shanghai-rolex-masters-shanghai-2024/\" title=\"détail du match\">détail du match</a></td></tr><tr class=\"pair\"><td align=\"center\" class=\"w50\">10.10.24</td><td align=\"center\" class=\"w50\">Quart de finale</td><td class=\"w130\"><b>Jannik Sinner</b></td><td class=\"w130\"><a href=\"https://www.tennisendirect.net/atp/daniil-medvedev/\" title=\"\">Daniil Medvedev</a></td><td class=\"w130\">6-1, 6-4  </td><td class=\"w16\"><img alt=\"victoire\" height=\"15\" src=\"https://www.tennisendirect.net/styles/images/ok.gif\" width=\"15\"/></td><td align=\"center\" class=\"w50\"><a href=\"https://www.tennisendirect.net/atp/match/jannik-sinner-VS-daniil-medvedev/shanghai-rolex-masters-shanghai-2024/\" title=\"détail du match\">détail du match</a></td></tr><tr class=\"unpair\"><td align=\"center\" class=\"w50\">09.10.24</td><td align=\"center\" class=\"w50\">4e tour</td><td class=\"w130\"><b>Jannik Sinner</b></td><td class=\"w130\"><a href=\"https://www.tennisendirect.net/atp/ben-shelton/\" title=\"\">Ben Shelton</a></td><td class=\"w130\">6-4, 7-6<sup>1</sup> </td><td class=\"w16\"><img alt=\"victoire\" height=\"15\" src=\"https://www.tennisendirect.net/styles/images/ok.gif\" width=\"15\"/></td><td align=\"center\" class=\"w50\"><a href=\"https://www.tennisendirect.net/atp/match/jannik-sinner-VS-ben-shelton/shanghai-rolex-masters-shanghai-2024/\" title=\"détail du match\">détail du match</a></td></tr><tr class=\"pair\"><td align=\"center\" class=\"w50\">06.10.24</td><td align=\"center\" class=\"w50\">3e tour</td><td class=\"w130\"><b>Jannik Sinner</b></td><td class=\"w130\"><a href=\"https://www.tennisendirect.net/atp/tomas-martin-etcheverry/\" title=\"\">Tomas Martin Etcheverry</a></td><td class=\"w130\">6-7<sup>3</sup>, 6-4, 6-2  </td><td class=\"w16\"><img alt=\"victoire\" height=\"15\" src=\"https://www.tennisendirect.net/styles/images/ok.gif\" width=\"15\"/></td><td align=\"center\" class=\"w50\"><a href=\"https://www.tennisendirect.net/atp/match/jannik-sinner-VS-tomas-martin-etcheverry/shanghai-rolex-masters-shanghai-2024/\" title=\"détail du match\">détail du match</a></td></tr><tr class=\"unpair\"><td align=\"center\" class=\"w50\">05.10.24</td><td align=\"center\" class=\"w50\">2e tour</td><td class=\"w130\"><b>Jannik Sinner</b></td><td class=\"w130\"><a href=\"https://www.tennisendirect.net/atp/taro-taro/\" title=\"\">Taro Daniel</a></td><td class=\"w130\">6-1, 6-4  </td><td class=\"w16\"><img alt=\"victoire\" height=\"15\" src=\"https://www.tennisendirect.net/styles/images/ok.gif\" width=\"15\"/></td><td align=\"center\" class=\"w50\"><a href=\"https://www.tennisendirect.net/atp/match/jannik-sinner-VS-taro-taro/shanghai-rolex-masters-shanghai-2024/\" title=\"détail du match\">détail du match</a></td></tr><tr class=\"tour_head pair\"><td align=\"center\" class=\"w50\">02.10.24</td><td align=\"center\" class=\"w50\">Finale</td><td class=\"w130\"><a href=\"https://www.tennisendirect.net/atp/carlos-alcaraz-garfia/\" title=\"\">Carlos Alcaraz</a></td><td class=\"w130\"><b>Jannik Sinner</b></td><td class=\"w130\">6-7<sup>6</sup>, 6-4, 7-6<sup>3</sup> </td><td class=\"w16\"><img alt=\"défaite\" height=\"15\" src=\"https://www.tennisendirect.net/styles/images/ko.gif\" width=\"15\"/></td><td align=\"center\" class=\"w50\"><a href=\"https://www.tennisendirect.net/atp/match/carlos-alcaraz-garfia-VS-jannik-sinner/china-open-beijing-2024/\" title=\"détail du match\">détail du match</a></td><td class=\"w200\" rowspan=\"5\"><img alt=\"China\" height=\"16\" src=\"https://www.tennisendirect.net/flags/flag_china.png\" width=\"16\"/> <a href=\"https://www.tennisendirect.net/hommes/china-open-beijing-2024/\" title=\"China Open - Beijing / $3.891M\">Beijing </a></td><td class=\"w40 surf_1\" rowspan=\"5\">dure</td></tr><tr class=\"unpair\"><td align=\"center\" class=\"w50\">01.10.24</td><td align=\"center\" class=\"w50\">Demi-finale</td><td class=\"w130\"><b>Jannik Sinner</b></td><td class=\"w130\"><a href=\"https://www.tennisendirect.net/atp/bu-yunchaokete/\" title=\"\">Bu Yunchaokete</a></td><td class=\"w130\">6-3, 7-6<sup>3</sup> </td><td class=\"w16\"><img alt=\"victoire\" height=\"15\" src=\"https://www.tennisendirect.net/styles/images/ok.gif\" width=\"15\"/></td><td align=\"center\" class=\"w50\"><a href=\"https://www.tennisendirect.net/atp/match/jannik-sinner-VS-bu-yunchaokete/china-open-beijing-2024/\" title=\"détail du match\">détail du match</a></td></tr><tr class=\"pair\"><td align=\"center\" class=\"w50\">30.09.24</td><td align=\"center\" class=\"w50\">Quart de finale</td><td class=\"w130\"><b>Jannik Sinner</b></td><td class=\"w130\"><a href=\"https://www.tennisendirect.net/atp/jiri-lehecka/\" title=\"\">Jiri Lehecka</a></td><td class=\"w130\">6-2, 7-6<sup>6</sup> </td><td class=\"w16\"><img alt=\"victoire\" height=\"15\" src=\"https://www.tennisendirect.net/styles/images/ok.gif\" width=\"15\"/></td><td align=\"center\" class=\"w50\"><a href=\"https://www.tennisendirect.net/atp/match/jannik-sinner-VS-jiri-lehecka/china-open-beijing-2024/\" title=\"détail du match\">détail du match</a></td></tr><tr class=\"unpair\"><td align=\"center\" class=\"w50\">28.09.24</td><td align=\"center\" class=\"w50\">2e tour</td><td class=\"w130\"><b>Jannik Sinner</b></td><td class=\"w130\"><a href=\"https://www.tennisendirect.net/atp/roman-safiullin/\" title=\"\">Roman Safiullin</a></td><td class=\"w130\">3-6, 6-2, 6-3  </td><td class=\"w16\"><img alt=\"victoire\" height=\"15\" src=\"https://www.tennisendirect.net/styles/images/ok.gif\" width=\"15\"/></td><td align=\"center\" class=\"w50\"><a href=\"https://www.tennisendirect.net/atp/match/jannik-sinner-VS-roman-safiullin/china-open-beijing-2024/\" title=\"détail du match\">détail du match</a></td></tr><tr class=\"pair\"><td align=\"center\" class=\"w50\">26.09.24</td><td align=\"center\" class=\"w50\">1er tour</td><td class=\"w130\"><b>Jannik Sinner</b></td><td class=\"w130\"><a href=\"https://www.tennisendirect.net/atp/nicolas-jarry/\" title=\"\">Nicolas Jarry</a></td><td class=\"w130\">4-6, 6-3, 6-1  </td><td class=\"w16\"><img alt=\"victoire\" height=\"15\" src=\"https://www.tennisendirect.net/styles/images/ok.gif\" width=\"15\"/></td><td align=\"center\" class=\"w50\"><a href=\"https://www.tennisendirect.net/atp/match/jannik-sinner-VS-nicolas-jarry/china-open-beijing-2024/\" title=\"détail du match\">détail du match</a></td></tr><tr class=\"tour_head unpair\"><td align=\"center\" class=\"w50\">08.09.24</td><td align=\"center\" class=\"w50\">Finale</td><td class=\"w130\"><b>Jannik Sinner</b></td><td class=\"w130\"><a href=\"https://www.tennisendirect.net/atp/taylor-harry-fritz/\" title=\"\">Taylor Harry Fritz</a></td><td class=\"w130\">6-3, 6-4, 7-5  </td><td class=\"w16\"><img alt=\"victoire\" height=\"15\" src=\"https://www.tennisendirect.net/styles/images/ok.gif\" width=\"15\"/></td><td align=\"center\" class=\"w50\"><a href=\"https://www.tennisendirect.net/atp/match/jannik-sinner-VS-taylor-harry-fritz/us-open-new-york-2024/\" title=\"détail du match\">détail du match</a></td><td class=\"w200\" rowspan=\"7\"><img alt=\"USA\" height=\"16\" src=\"https://www.tennisendirect.net/flags/flag_usa.png\" width=\"16\"/> <a href=\"https://www.tennisendirect.net/hommes/us-open-new-york-2024/\" title=\"U.S. Open - New York / $33.9M\">New York </a></td><td class=\"w40 surf_1\" rowspan=\"7\">dure</td></tr><tr class=\"pair\"><td align=\"center\" class=\"w50\">06.09.24</td><td align=\"center\" class=\"w50\">Demi-finale</td><td class=\"w130\"><b>Jannik Sinner</b></td><td class=\"w130\"><a href=\"https://www.tennisendirect.net/atp/jack-draper/\" title=\"\">Jack Draper</a></td><td class=\"w130\">7-5, 7-6<sup>3</sup>, 6-2  </td><td class=\"w16\"><img alt=\"victoire\" height=\"15\" src=\"https://www.tennisendirect.net/styles/images/ok.gif\" width=\"15\"/></td><td align=\"center\" class=\"w50\"><a href=\"https://www.tennisendirect.net/atp/match/jannik-sinner-VS-jack-draper/us-open-new-york-2024/\" title=\"détail du match\">détail du match</a></td></tr><tr class=\"unpair\"><td align=\"center\" class=\"w50\">04.09.24</td><td align=\"center\" class=\"w50\">Quart de finale</td><td class=\"w130\"><b>Jannik Sinner</b></td><td class=\"w130\"><a href=\"https://www.tennisendirect.net/atp/daniil-medvedev/\" title=\"\">Daniil Medvedev</a></td><td class=\"w130\">6-2, 1-6, 6-1, 6-4  </td><td class=\"w16\"><img alt=\"victoire\" height=\"15\" src=\"https://www.tennisendirect.net/styles/images/ok.gif\" width=\"15\"/></td><td align=\"center\" class=\"w50\"><a href=\"https://www.tennisendirect.net/atp/match/jannik-sinner-VS-daniil-medvedev/us-open-new-york-2024/\" title=\"détail du match\">détail du match</a></td></tr><tr class=\"pair\"><td align=\"center\" class=\"w50\">02.09.24</td><td align=\"center\" class=\"w50\">4e tour</td><td class=\"w130\"><b>Jannik Sinner</b></td><td class=\"w130\"><a href=\"https://www.tennisendirect.net/atp/tommy-paul/\" title=\"\">Tommy Paul</a></td><td class=\"w130\">7-6<sup>3</sup>, 7-6<sup>5</sup>, 6-1  </td><td class=\"w16\"><img alt=\"victoire\" height=\"15\" src=\"https://www.tennisendirect.net/styles/images/ok.gif\" width=\"15\"/></td><td align=\"center\" class=\"w50\"><a href=\"https://www.tennisendirect.net/atp/match/jannik-sinner-VS-tommy-paul/us-open-new-york-2024/\" title=\"détail du match\">détail du match</a></td></tr><tr class=\"unpair\"><td align=\"center\" class=\"w50\">31.08.24</td><td align=\"center\" class=\"w50\">3e tour</td><td class=\"w130\"><b>Jannik Sinner</b></td><td class=\"w130\"><a href=\"https://www.tennisendirect.net/atp/christopher-oconnell/\" title=\"\">Christopher O'Connell</a></td><td class=\"w130\">6-1, 6-4, 6-2  </td><td class=\"w16\"><img alt=\"victoire\" height=\"15\" src=\"https://www.tennisendirect.net/styles/images/ok.gif\" width=\"15\"/></td><td align=\"center\" class=\"w50\"><a href=\"https://www.tennisendirect.net/atp/match/jannik-sinner-VS-christopher-oconnell/us-open-new-york-2024/\" title=\"détail du match\">détail du match</a></td></tr><tr class=\"pair\"><td align=\"center\" class=\"w50\">29.08.24</td><td align=\"center\" class=\"w50\">2e tour</td><td class=\"w130\"><b>Jannik Sinner</b></td><td class=\"w130\"><a href=\"https://www.tennisendirect.net/atp/alex-michelsen/\" title=\"\">Alex Michelsen</a></td><td class=\"w130\">6-4, 6-0, 6-2  </td><td class=\"w16\"><img alt=\"victoire\" height=\"15\" src=\"https://www.tennisendirect.net/styles/images/ok.gif\" width=\"15\"/></td><td align=\"center\" class=\"w50\"><a href=\"https://www.tennisendirect.net/atp/match/jannik-sinner-VS-alex-michelsen/us-open-new-york-2024/\" title=\"détail du match\">détail du match</a></td></tr><tr class=\"unpair\"><td align=\"center\" class=\"w50\">27.08.24</td><td align=\"center\" class=\"w50\">1er tour</td><td class=\"w130\"><b>Jannik Sinner</b></td><td class=\"w130\"><a href=\"https://www.tennisendirect.net/atp/mackenzie-mcdonald/\" title=\"\">Mackenzie Mcdonald</a></td><td class=\"w130\">2-6, 6-2, 6-1, 6-2  </td><td class=\"w16\"><img alt=\"victoire\" height=\"15\" src=\"https://www.tennisendirect.net/styles/images/ok.gif\" width=\"15\"/></td><td align=\"center\" class=\"w50\"><a href=\"https://www.tennisendirect.net/atp/match/jannik-sinner-VS-mackenzie-mcdonald/us-open-new-york-2024/\" title=\"détail du match\">détail du match</a></td></tr><tr class=\"tour_head pair\"><td align=\"center\" class=\"w50\">19.08.24</td><td align=\"center\" class=\"w50\">Finale</td><td class=\"w130\"><b>Jannik Sinner</b></td><td class=\"w130\"><a href=\"https://www.tennisendirect.net/atp/francis-tiafoe/\" title=\"\">Frances Tiafoe</a></td><td class=\"w130\">7-6<sup>4</sup>, 6-2  </td><td class=\"w16\"><img alt=\"victoire\" height=\"15\" src=\"https://www.tennisendirect.net/styles/images/ok.gif\" width=\"15\"/></td><td align=\"center\" class=\"w50\"><a href=\"https://www.tennisendirect.net/atp/match/jannik-sinner-VS-francis-tiafoe/western-southern-open-cincinnati-2024/\" title=\"détail du match\">détail du match</a></td><td class=\"w200\" rowspan=\"5\"><img alt=\"USA\" height=\"16\" src=\"https://www.tennisendirect.net/flags/flag_usa.png\" width=\"16\"/> <a href=\"https://www.tennisendirect.net/hommes/western-southern-open-cincinnati-2024/\" title=\"Western &amp; Southern Open - Cincinnati / $7.9M\">Cincinnati </a></td><td class=\"w40 surf_1\" rowspan=\"5\">dure</td></tr><tr class=\"unpair\"><td align=\"center\" class=\"w50\">18.08.24</td><td align=\"center\" class=\"w50\">Demi-finale</td><td class=\"w130\"><b>Jannik Sinner</b></td><td class=\"w130\"><a href=\"https://www.tennisendirect.net/atp/alexander-zverev/\" title=\"\">Alexander Zverev</a></td><td class=\"w130\">7-6<sup>9</sup>, 5-7, 7-6<sup>4</sup> </td><td class=\"w16\"><img alt=\"victoire\" height=\"15\" src=\"https://www.tennisendirect.net/styles/images/ok.gif\" width=\"15\"/></td><td align=\"center\" class=\"w50\"><a href=\"https://www.tennisendirect.net/atp/match/jannik-sinner-VS-alexander-zverev/western-southern-open-cincinnati-2024/\" title=\"détail du match\">détail du match</a></td></tr><tr class=\"pair\"><td align=\"center\" class=\"w50\">17.08.24</td><td align=\"center\" class=\"w50\">Quart de finale</td><td class=\"w130\"><b>Jannik Sinner</b></td><td class=\"w130\"><a href=\"https://www.tennisendirect.net/atp/andrey-rublev/\" title=\"\">Andrey Rublev</a></td><td class=\"w130\">4-6, 7-5, 6-4  </td><td class=\"w16\"><img alt=\"victoire\" height=\"15\" src=\"https://www.tennisendirect.net/styles/images/ok.gif\" width=\"15\"/></td><td align=\"center\" class=\"w50\"><a href=\"https://www.tennisendirect.net/atp/match/jannik-sinner-VS-andrey-rublev/western-southern-open-cincinnati-2024/\" title=\"détail du match\">détail du match</a></td></tr><tr class=\"unpair\"><td align=\"center\" class=\"w50\">16.08.24</td><td align=\"center\" class=\"w50\">3e tour</td><td class=\"w130\"><b>Jannik Sinner</b></td><td class=\"w130\"><a href=\"https://www.tennisendirect.net/atp/jordan-thompson/\" title=\"\">Jordan Thompson</a></td><td class=\"w130\"> Jordan Thompson - il (elle/ils) n’a (ont) pas participé </td><td class=\"w16\"><img alt=\"victoire\" height=\"15\" src=\"https://www.tennisendirect.net/styles/images/ok.gif\" width=\"15\"/></td><td align=\"center\" class=\"w50\"><a href=\"https://www.tennisendirect.net/atp/match/jannik-sinner-VS-jordan-thompson/western-southern-open-cincinnati-2024/\" title=\"détail du match\">détail du match</a></td></tr><tr class=\"pair\"><td align=\"center\" class=\"w50\">14.08.24</td><td align=\"center\" class=\"w50\">2e tour</td><td class=\"w130\"><b>Jannik Sinner</b></td><td class=\"w130\"><a href=\"https://www.tennisendirect.net/atp/alex-michelsen/\" title=\"\">Alex Michelsen</a></td><td class=\"w130\">6-4, 7-5  </td><td class=\"w16\"><img alt=\"victoire\" height=\"15\" src=\"https://www.tennisendirect.net/styles/images/ok.gif\" width=\"15\"/></td><td align=\"center\" class=\"w50\"><a href=\"https://www.tennisendirect.net/atp/match/jannik-sinner-VS-alex-michelsen/western-southern-open-cincinnati-2024/\" title=\"détail du match\">détail du match</a></td></tr><tr class=\"tour_head unpair\"><td align=\"center\" class=\"w50\">10.08.24</td><td align=\"center\" class=\"w50\">Quart de finale</td><td class=\"w130\"><a href=\"https://www.tennisendirect.net/atp/andrey-rublev/\" title=\"\">Andrey Rublev</a></td><td class=\"w130\"><b>Jannik Sinner</b></td><td class=\"w130\">6-3, 1-6, 6-2  </td><td class=\"w16\"><img alt=\"défaite\" height=\"15\" src=\"https://www.tennisendirect.net/styles/images/ko.gif\" width=\"15\"/></td><td align=\"center\" class=\"w50\"><a href=\"https://www.tennisendirect.net/atp/match/andrey-rublev-VS-jannik-sinner/national-bank-open-montreal-2024/\" title=\"détail du match\">détail du match</a></td><td class=\"w200\" rowspan=\"3\"><img alt=\"Canada\" height=\"16\" src=\"https://www.tennisendirect.net/flags/flag_canada.png\" width=\"16\"/> <a href=\"https://www.tennisendirect.net/hommes/national-bank-open-montreal-2024/\" title=\"National Bank Open - Montreal / $8.1M\">Montreal </a></td><td class=\"w40 surf_1\" rowspan=\"3\">dure</td></tr><tr class=\"pair\"><td align=\"center\" class=\"w50\">10.08.24</td><td align=\"center\" class=\"w50\">3e tour</td><td class=\"w130\"><b>Jannik Sinner</b></td><td class=\"w130\"><a href=\"https://www.tennisendirect.net/atp/alejandro-tabilo/\" title=\"\">Alejandro Tabilo</a></td><td class=\"w130\">6-4, 6-3  </td><td class=\"w16\"><img alt=\"victoire\" height=\"15\" src=\"https://www.tennisendirect.net/styles/images/ok.gif\" width=\"15\"/></td><td align=\"center\" class=\"w50\"><a href=\"https://www.tennisendirect.net/atp/match/jannik-sinner-VS-alejandro-tabilo/national-bank-open-montreal-2024/\" title=\"détail du match\">détail du match</a></td></tr><tr class=\"unpair\"><td align=\"center\" class=\"w50\">08.08.24</td><td align=\"center\" class=\"w50\">2e tour</td><td class=\"w130\"><b>Jannik Sinner</b></td><td class=\"w130\"><a href=\"https://www.tennisendirect.net/atp/borna-coric/\" title=\"\">Borna Coric</a></td><td class=\"w130\">6-2, 6-4  </td><td class=\"w16\"><img alt=\"victoire\" height=\"15\" src=\"https://www.tennisendirect.net/styles/images/ok.gif\" width=\"15\"/></td><td align=\"center\" class=\"w50\"><a href=\"https://www.tennisendirect.net/atp/match/jannik-sinner-VS-borna-coric/national-bank-open-montreal-2024/\" title=\"détail du match\">détail du match</a></td></tr><tr class=\"tour_head pair\"><td align=\"center\" class=\"w50\">09.07.24</td><td align=\"center\" class=\"w50\">Quart de finale</td><td class=\"w130\"><a href=\"https://www.tennisendirect.net/atp/daniil-medvedev/\" title=\"\">Daniil Medvedev</a></td><td class=\"w130\"><b>Jannik Sinner</b></td><td class=\"w130\">6-7<sup>7</sup>, 6-4, 7-6<sup>4</sup>, 2-6, 6-3  </td><td class=\"w16\"><img alt=\"défaite\" height=\"15\" src=\"https://www.tennisendirect.net/styles/images/ko.gif\" width=\"15\"/></td><td align=\"center\" class=\"w50\"><a href=\"https://www.tennisendirect.net/atp/match/daniil-medvedev-VS-jannik-sinner/wimbledon-london-2024/\" title=\"détail du match\">détail du match</a></td><td class=\"w200\" rowspan=\"5\"><img alt=\"United Kingdom\" height=\"16\" src=\"https://www.tennisendirect.net/flags/flag_united_kingdom.png\" width=\"16\"/> <a href=\"https://www.tennisendirect.net/hommes/wimbledon-london-2024/\" title=\"Wimbledon - London / L50M\">London </a></td><td class=\"w40 surf_5\" rowspan=\"5\">gazon</td></tr><tr class=\"unpair\"><td align=\"center\" class=\"w50\">07.07.24</td><td align=\"center\" class=\"w50\">4e tour</td><td class=\"w130\"><b>Jannik Sinner</b></td><td class=\"w130\"><a href=\"https://www.tennisendirect.net/atp/ben-shelton/\" title=\"\">Ben Shelton</a></td><td class=\"w130\">6-2, 6-4, 7-6<sup>9</sup> </td><td class=\"w16\"><img alt=\"victoire\" height=\"15\" src=\"https://www.tennisendirect.net/styles/images/ok.gif\" width=\"15\"/></td><td align=\"center\" class=\"w50\"><a href=\"https://www.tennisendirect.net/atp/match/jannik-sinner-VS-ben-shelton/wimbledon-london-2024/\" title=\"détail du match\">détail du match</a></td></tr><tr class=\"pair\"><td align=\"center\" class=\"w50\">05.07.24</td><td align=\"center\" class=\"w50\">3e tour</td><td class=\"w130\"><b>Jannik Sinner</b></td><td class=\"w130\"><a href=\"https://www.tennisendirect.net/atp/miomir-kecmanovic/\" title=\"\">Miomir Kecmanovic</a></td><td class=\"w130\">6-1, 6-4, 6-2  </td><td class=\"w16\"><img alt=\"victoire\" height=\"15\" src=\"https://www.tennisendirect.net/styles/images/ok.gif\" width=\"15\"/></td><td align=\"center\" class=\"w50\"><a href=\"https://www.tennisendirect.net/atp/match/jannik-sinner-VS-miomir-kecmanovic/wimbledon-london-2024/\" title=\"détail du match\">détail du match</a></td></tr><tr class=\"unpair\"><td align=\"center\" class=\"w50\">03.07.24</td><td align=\"center\" class=\"w50\">2e tour</td><td class=\"w130\"><b>Jannik Sinner</b></td><td class=\"w130\"><a href=\"https://www.tennisendirect.net/atp/matteo-berrettini/\" title=\"\">Matteo Berrettini</a></td><td class=\"w130\">7-6<sup>3</sup>, 7-6<sup>4</sup>, 2-6, 7-6<sup>4</sup> </td><td class=\"w16\"><img alt=\"victoire\" height=\"15\" src=\"https://www.tennisendirect.net/styles/images/ok.gif\" width=\"15\"/></td><td align=\"center\" class=\"w50\"><a href=\"https://www.tennisendirect.net/atp/match/jannik-sinner-VS-matteo-berrettini/wimbledon-london-2024/\" title=\"détail du match\">détail du match</a></td></tr><tr class=\"pair\"><td align=\"center\" class=\"w50\">01.07.24</td><td align=\"center\" class=\"w50\">1er tour</td><td class=\"w130\"><b>Jannik Sinner</b></td><td class=\"w130\"><a href=\"https://www.tennisendirect.net/atp/yannick-hanfmann/\" title=\"\">Yannick Hanfmann</a></td><td class=\"w130\">6-3, 6-4, 3-6, 6-3  </td><td class=\"w16\"><img alt=\"victoire\" height=\"15\" src=\"https://www.tennisendirect.net/styles/images/ok.gif\" width=\"15\"/></td><td align=\"center\" class=\"w50\"><a href=\"https://www.tennisendirect.net/atp/match/jannik-sinner-VS-yannick-hanfmann/wimbledon-london-2024/\" title=\"détail du match\">détail du match</a></td></tr><tr class=\"tour_head unpair\"><td align=\"center\" class=\"w50\">23.06.24</td><td align=\"center\" class=\"w50\">Finale</td><td class=\"w130\"><b>Jannik Sinner</b></td><td class=\"w130\"><a href=\"https://www.tennisendirect.net/atp/hubert-hurkacz/\" title=\"\">Hubert Hurkacz</a></td><td class=\"w130\">7-6<sup>8</sup>, 7-6<sup>2</sup> </td><td class=\"w16\"><img alt=\"victoire\" height=\"15\" src=\"https://www.tennisendirect.net/styles/images/ok.gif\" width=\"15\"/></td><td align=\"center\" class=\"w50\"><a href=\"https://www.tennisendirect.net/atp/match/jannik-sinner-VS-hubert-hurkacz/terra-wortmann-open-halle-2024/\" title=\"détail du match\">détail du match</a></td><td class=\"w200\" rowspan=\"5\"><img alt=\"Germany\" height=\"16\" src=\"https://www.tennisendirect.net/flags/flag_germany.png\" width=\"16\"/> <a href=\"https://www.tennisendirect.net/hommes/terra-wortmann-open-halle-2024/\" title=\"Terra Wortmann Open - Halle / $2.411M\">Halle </a></td><td class=\"w40 surf_5\" rowspan=\"5\">gazon</td></tr><tr class=\"pair\"><td align=\"center\" class=\"w50\">22.06.24</td><td align=\"center\" class=\"w50\">Demi-finale</td><td class=\"w130\"><b>Jannik Sinner</b></td><td class=\"w130\"><a href=\"https://www.tennisendirect.net/atp/zhizhen-zhang/\" title=\"\">Zhizhen Zhang</a></td><td class=\"w130\">6-4, 7-6<sup>3</sup> </td><td class=\"w16\"><img alt=\"victoire\" height=\"15\" src=\"https://www.tennisendirect.net/styles/images/ok.gif\" width=\"15\"/></td><td align=\"center\" class=\"w50\"><a href=\"https://www.tennisendirect.net/atp/match/jannik-sinner-VS-zhizhen-zhang/terra-wortmann-open-halle-2024/\" title=\"détail du match\">détail du match</a></td></tr><tr class=\"unpair\"><td align=\"center\" class=\"w50\">21.06.24</td><td align=\"center\" class=\"w50\">Quart de finale</td><td class=\"w130\"><b>Jannik Sinner</b></td><td class=\"w130\"><a href=\"https://www.tennisendirect.net/atp/jan-lennard-struff/\" title=\"\">Jan-Lennard Struff</a></td><td class=\"w130\">6-2, 6-7<sup>1</sup>, 7-6<sup>3</sup> </td><td class=\"w16\"><img alt=\"victoire\" height=\"15\" src=\"https://www.tennisendirect.net/styles/images/ok.gif\" width=\"15\"/></td><td align=\"center\" class=\"w50\"><a href=\"https://www.tennisendirect.net/atp/match/jannik-sinner-VS-jan-lennard-struff/terra-wortmann-open-halle-2024/\" title=\"détail du match\">détail du match</a></td></tr><tr class=\"pair\"><td align=\"center\" class=\"w50\">20.06.24</td><td align=\"center\" class=\"w50\">2e tour</td><td class=\"w130\"><b>Jannik Sinner</b></td><td class=\"w130\"><a href=\"https://www.tennisendirect.net/atp/fabian-marozsan/\" title=\"\">Fabian Marozsan</a></td><td class=\"w130\">6-4, 6-7<sup>4</sup>, 6-3  </td><td class=\"w16\"><img alt=\"victoire\" height=\"15\" src=\"https://www.tennisendirect.net/styles/images/ok.gif\" width=\"15\"/></td><td align=\"center\" class=\"w50\"><a href=\"https://www.tennisendirect.net/atp/match/jannik-sinner-VS-fabian-marozsan/terra-wortmann-open-halle-2024/\" title=\"détail du match\">détail du match</a></td></tr><tr class=\"unpair\"><td align=\"center\" class=\"w50\">18.06.24</td><td align=\"center\" class=\"w50\">1er tour</td><td class=\"w130\"><b>Jannik Sinner</b></td><td class=\"w130\"><a href=\"https://www.tennisendirect.net/atp/tallon-griekspoor/\" title=\"\">Tallon Griekspoor</a></td><td class=\"w130\">6-7<sup>8</sup>, 6-3, 6-2  </td><td class=\"w16\"><img alt=\"victoire\" height=\"15\" src=\"https://www.tennisendirect.net/styles/images/ok.gif\" width=\"15\"/></td><td align=\"center\" class=\"w50\"><a href=\"https://www.tennisendirect.net/atp/match/jannik-sinner-VS-tallon-griekspoor/terra-wortmann-open-halle-2024/\" title=\"détail du match\">détail du match</a></td></tr><tr class=\"tour_head pair\"><td align=\"center\" class=\"w50\">07.06.24</td><td align=\"center\" class=\"w50\">Demi-finale</td><td class=\"w130\"><a href=\"https://www.tennisendirect.net/atp/carlos-alcaraz-garfia/\" title=\"\">Carlos Alcaraz</a></td><td class=\"w130\"><b>Jannik Sinner</b></td><td class=\"w130\">2-6, 6-3, 3-6, 6-4, 6-3  </td><td class=\"w16\"><img alt=\"défaite\" height=\"15\" src=\"https://www.tennisendirect.net/styles/images/ko.gif\" width=\"15\"/></td><td align=\"center\" class=\"w50\"><a href=\"https://www.tennisendirect.net/atp/match/carlos-alcaraz-garfia-VS-jannik-sinner/french-open-paris-2024/\" title=\"détail du match\">détail du match</a></td><td class=\"w200\" rowspan=\"6\"><img alt=\"France\" height=\"16\" src=\"https://www.tennisendirect.net/flags/flag_france.png\" width=\"16\"/> <a href=\"https://www.tennisendirect.net/hommes/french-open-paris-2024/\" title=\"French Open - Paris / $24.9M\">Paris </a></td><td class=\"w40 surf_2\" rowspan=\"6\">terre battue</td></tr><tr class=\"unpair\"><td align=\"center\" class=\"w50\">04.06.24</td><td align=\"center\" class=\"w50\">Quart de finale</td><td class=\"w130\"><b>Jannik Sinner</b></td><td class=\"w130\"><a href=\"https://www.tennisendirect.net/atp/grigor-dimitrov/\" title=\"\">Grigor Dimitrov</a></td><td class=\"w130\">6-2, 6-4, 7-6<sup>3</sup> </td><td class=\"w16\"><img alt=\"victoire\" height=\"15\" src=\"https://www.tennisendirect.net/styles/images/ok.gif\" width=\"15\"/></td><td align=\"center\" class=\"w50\"><a href=\"https://www.tennisendirect.net/atp/match/jannik-sinner-VS-grigor-dimitrov/french-open-paris-2024/\" title=\"détail du match\">détail du match</a></td></tr><tr class=\"pair\"><td align=\"center\" class=\"w50\">02.06.24</td><td align=\"center\" class=\"w50\">4e tour</td><td class=\"w130\"><b>Jannik Sinner</b></td><td class=\"w130\"><a href=\"https://www.tennisendirect.net/atp/corentin-moutet/\" title=\"\">Corentin Moutet</a></td><td class=\"w130\">2-6, 6-3, 6-2, 6-1  </td><td class=\"w16\"><img alt=\"victoire\" height=\"15\" src=\"https://www.tennisendirect.net/styles/images/ok.gif\" width=\"15\"/></td><td align=\"center\" class=\"w50\"><a href=\"https://www.tennisendirect.net/atp/match/jannik-sinner-VS-corentin-moutet/french-open-paris-2024/\" title=\"détail du match\">détail du match</a></td></tr><tr class=\"unpair\"><td align=\"center\" class=\"w50\">31.05.24</td><td align=\"center\" class=\"w50\">3e tour</td><td class=\"w130\"><b>Jannik Sinner</b></td><td class=\"w130\"><a href=\"https://www.tennisendirect.net/atp/pavel-kotov/\" title=\"\">Pavel Kotov</a></td><td class=\"w130\">6-4, 6-4, 6-4  </td><td class=\"w16\"><img alt=\"victoire\" height=\"15\" src=\"https://www.tennisendirect.net/styles/images/ok.gif\" width=\"15\"/></td><td align=\"center\" class=\"w50\"><a href=\"https://www.tennisendirect.net/atp/match/jannik-sinner-VS-pavel-kotov/french-open-paris-2024/\" title=\"détail du match\">détail du match</a></td></tr><tr class=\"pair\"><td align=\"center\" class=\"w50\">29.05.24</td><td align=\"center\" class=\"w50\">2e tour</td><td class=\"w130\"><b>Jannik Sinner</b></td><td class=\"w130\"><a href=\"https://www.tennisendirect.net/atp/richard-gasquet/\" title=\"\">Richard Gasquet</a></td><td class=\"w130\">6-4, 6-2, 6-4  </td><td class=\"w16\"><img alt=\"victoire\" height=\"15\" src=\"https://www.tennisendirect.net/styles/images/ok.gif\" width=\"15\"/></td><td align=\"center\" class=\"w50\"><a href=\"https://www.tennisendirect.net/atp/match/jannik-sinner-VS-richard-gasquet/french-open-paris-2024/\" title=\"détail du match\">détail du match</a></td></tr><tr class=\"unpair\"><td align=\"center\" class=\"w50\">27.05.24</td><td align=\"center\" class=\"w50\">1er tour</td><td class=\"w130\"><b>Jannik Sinner</b></td><td class=\"w130\"><a href=\"https://www.tennisendirect.net/atp/christopher-eubanks/\" title=\"\">Christopher Eubanks</a></td><td class=\"w130\">6-3, 6-3, 6-4  </td><td class=\"w16\"><img alt=\"victoire\" height=\"15\" src=\"https://www.tennisendirect.net/styles/images/ok.gif\" width=\"15\"/></td><td align=\"center\" class=\"w50\"><a href=\"https://www.tennisendirect.net/atp/match/jannik-sinner-VS-christopher-eubanks/french-open-paris-2024/\" title=\"détail du match\">détail du match</a></td></tr><tr class=\"tour_head pair\"><td align=\"center\" class=\"w50\">01.05.24</td><td align=\"center\" class=\"w50\">Quart de finale</td><td class=\"w130\"><a href=\"https://www.tennisendirect.net/atp/felix-auger-aliassime/\" title=\"\">Felix Auger Aliassime</a></td><td class=\"w130\"><b>Jannik Sinner</b></td><td class=\"w130\"> Jannik Sinner - il (elle/ils) n’a (ont) pas participé </td><td class=\"w16\"><img alt=\"défaite\" height=\"15\" src=\"https://www.tennisendirect.net/styles/images/ko.gif\" width=\"15\"/></td><td align=\"center\" class=\"w50\"><a href=\"https://www.tennisendirect.net/atp/match/felix-auger-aliassime-VS-jannik-sinner/mutua-madrid-open-madrid-2024/\" title=\"détail du match\">détail du match</a></td><td class=\"w200\" rowspan=\"4\"><img alt=\"Spain\" height=\"16\" src=\"https://www.tennisendirect.net/flags/flag_spain.png\" width=\"16\"/> <a href=\"https://www.tennisendirect.net/hommes/mutua-madrid-open-madrid-2024/\" title=\"Mutua Madrid Open - Madrid / $9.249M\">Madrid </a></td><td class=\"w40 surf_2\" rowspan=\"4\">terre battue</td></tr><tr class=\"unpair\"><td align=\"center\" class=\"w50\">30.04.24</td><td align=\"center\" class=\"w50\">4e tour</td><td class=\"w130\"><b>Jannik Sinner</b></td><td class=\"w130\"><a href=\"https://www.tennisendirect.net/atp/karen-khachanov/\" title=\"\">Karen Khachanov</a></td><td class=\"w130\">5-7, 6-3, 6-3  </td><td class=\"w16\"><img alt=\"victoire\" height=\"15\" src=\"https://www.tennisendirect.net/styles/images/ok.gif\" width=\"15\"/></td><td align=\"center\" class=\"w50\"><a href=\"https://www.tennisendirect.net/atp/match/jannik-sinner-VS-karen-khachanov/mutua-madrid-open-madrid-2024/\" title=\"détail du match\">détail du match</a></td></tr><tr class=\"pair\"><td align=\"center\" class=\"w50\">29.04.24</td><td align=\"center\" class=\"w50\">3e tour</td><td class=\"w130\"><b>Jannik Sinner</b></td><td class=\"w130\"><a href=\"https://www.tennisendirect.net/atp/pavel-kotov/\" title=\"\">Pavel Kotov</a></td><td class=\"w130\">6-2, 7-5  </td><td class=\"w16\"><img alt=\"victoire\" height=\"15\" src=\"https://www.tennisendirect.net/styles/images/ok.gif\" width=\"15\"/></td><td align=\"center\" class=\"w50\"><a href=\"https://www.tennisendirect.net/atp/match/jannik-sinner-VS-pavel-kotov/mutua-madrid-open-madrid-2024/\" title=\"détail du match\">détail du match</a></td></tr><tr class=\"unpair\"><td align=\"center\" class=\"w50\">27.04.24</td><td align=\"center\" class=\"w50\">2e tour</td><td class=\"w130\"><b>Jannik Sinner</b></td><td class=\"w130\"><a href=\"https://www.tennisendirect.net/atp/lorenzo-sonego/\" title=\"\">Lorenzo Sonego</a></td><td class=\"w130\">6-0, 6-3  </td><td class=\"w16\"><img alt=\"victoire\" height=\"15\" src=\"https://www.tennisendirect.net/styles/images/ok.gif\" width=\"15\"/></td><td align=\"center\" class=\"w50\"><a href=\"https://www.tennisendirect.net/atp/match/jannik-sinner-VS-lorenzo-sonego/mutua-madrid-open-madrid-2024/\" title=\"détail du match\">détail du match</a></td></tr><tr class=\"tour_head pair\"><td align=\"center\" class=\"w50\">13.04.24</td><td align=\"center\" class=\"w50\">Demi-finale</td><td class=\"w130\"><a href=\"https://www.tennisendirect.net/atp/stefanos-tsitsipas/\" title=\"\">Stefanos Tsitsipas</a></td><td class=\"w130\"><b>Jannik Sinner</b></td><td class=\"w130\">6-4, 3-6, 6-4  </td><td class=\"w16\"><img alt=\"défaite\" height=\"15\" src=\"https://www.tennisendirect.net/styles/images/ko.gif\" width=\"15\"/></td><td align=\"center\" class=\"w50\"><a href=\"https://www.tennisendirect.net/atp/match/stefanos-tsitsipas-VS-jannik-sinner/monte-carlo-rolex-masters-monte-carlo-2024/\" title=\"détail du match\">détail du match</a></td><td class=\"w200\" rowspan=\"4\"><img alt=\"Monaco\" height=\"16\" src=\"https://www.tennisendirect.net/flags/flag_monaco.png\" width=\"16\"/> <a href=\"https://www.tennisendirect.net/hommes/monte-carlo-rolex-masters-monte-carlo-2024/\" title=\"Monte-Carlo Rolex Masters - Monte-Carlo / $6.642M\">Monte-Carlo </a></td><td class=\"w40 surf_2\" rowspan=\"4\">terre battue</td></tr><tr class=\"unpair\"><td align=\"center\" class=\"w50\">12.04.24</td><td align=\"center\" class=\"w50\">Quart de finale</td><td class=\"w130\"><b>Jannik Sinner</b></td><td class=\"w130\"><a href=\"https://www.tennisendirect.net/atp/holger-vitus-nodskov-rune/\" title=\"\">Holger Rune</a></td><td class=\"w130\">6-4, 6-7<sup>6</sup>, 6-3  </td><td class=\"w16\"><img alt=\"victoire\" height=\"15\" src=\"https://www.tennisendirect.net/styles/images/ok.gif\" width=\"15\"/></td><td align=\"center\" class=\"w50\"><a href=\"https://www.tennisendirect.net/atp/match/jannik-sinner-VS-holger-vitus-nodskov-rune/monte-carlo-rolex-masters-monte-carlo-2024/\" title=\"détail du match\">détail du match</a></td></tr><tr class=\"pair\"><td align=\"center\" class=\"w50\">11.04.24</td><td align=\"center\" class=\"w50\">3e tour</td><td class=\"w130\"><b>Jannik Sinner</b></td><td class=\"w130\"><a href=\"https://www.tennisendirect.net/atp/jan-lennard-struff/\" title=\"\">Jan-Lennard Struff</a></td><td class=\"w130\">6-4, 6-2  </td><td class=\"w16\"><img alt=\"victoire\" height=\"15\" src=\"https://www.tennisendirect.net/styles/images/ok.gif\" width=\"15\"/></td><td align=\"center\" class=\"w50\"><a href=\"https://www.tennisendirect.net/atp/match/jannik-sinner-VS-jan-lennard-struff/monte-carlo-rolex-masters-monte-carlo-2024/\" title=\"détail du match\">détail du match</a></td></tr><tr class=\"unpair\"><td align=\"center\" class=\"w50\">10.04.24</td><td align=\"center\" class=\"w50\">2e tour</td><td class=\"w130\"><b>Jannik Sinner</b></td><td class=\"w130\"><a href=\"https://www.tennisendirect.net/atp/sebastian-korda/\" title=\"\">Sebastian Korda</a></td><td class=\"w130\">6-1, 6-2  </td><td class=\"w16\"><img alt=\"victoire\" height=\"15\" src=\"https://www.tennisendirect.net/styles/images/ok.gif\" width=\"15\"/></td><td align=\"center\" class=\"w50\"><a href=\"https://www.tennisendirect.net/atp/match/jannik-sinner-VS-sebastian-korda/monte-carlo-rolex-masters-monte-carlo-2024/\" title=\"détail du match\">détail du match</a></td></tr> </table>\n"
     ]
    }
   ],
   "source": [
    "print(\"\"\"profil: {profil} \\n stats: {statistiques} \\n matchs: {derniers_match}\"\"\".format(\n",
    "    profil=profil, statistiques=statistiques, derniers_match=derniers_match))\n"
   ]
  },
  {
   "cell_type": "code",
   "execution_count": 13,
   "metadata": {},
   "outputs": [],
   "source": [
    "@dataclass\n",
    "class Profil:\n",
    "    nom: str\n",
    "    pays: str\n",
    "    date_naissance: str\n",
    "    classement_atp: str\n",
    "    points: str\n",
    "    primes: str\n",
    "    total_match: str\n",
    "    victoires: str\n",
    "    taux_reussite: str"
   ]
  },
  {
   "cell_type": "code",
   "execution_count": 14,
   "metadata": {},
   "outputs": [],
   "source": [
    "@dataclass\n",
    "class Statistiques:\n",
    "    annee: str\n",
    "    sommaire: str\n",
    "    dure: str\n",
    "    terre_battue: str\n",
    "    salle: str\n",
    "    carpet: str\n",
    "    gazon: str\n",
    "    acryl: str"
   ]
  },
  {
   "cell_type": "code",
   "execution_count": 15,
   "metadata": {},
   "outputs": [],
   "source": [
    "@dataclass\n",
    "class Matchs:\n",
    "    date: str\n",
    "    stage: str\n",
    "    nom_vainqueur: str\n",
    "    nom_perdant: str\n",
    "    score: str\n",
    "    resultat: str\n",
    "    lien_detail: str\n",
    "    tournoi: str\n",
    "    type_terrain :str"
   ]
  },
  {
   "cell_type": "markdown",
   "metadata": {},
   "source": [
    "## Profil "
   ]
  },
  {
   "cell_type": "code",
   "execution_count": 16,
   "metadata": {},
   "outputs": [
    {
     "name": "stdout",
     "output_type": "stream",
     "text": [
      "[<div class=\"player_stats\">\n",
      "            Nom: <b><a href=\"https://www.tennisendirect.net/atp/jannik-sinner/\" title=\"Jannik Sinner\">Jannik Sinner</a></b><br/>            Pays: <b>Italy</b><br/>            Date de naissance: <b>16.08.01, 23 ans</b><br/> <a href=\"https://www.tennisendirect.net/atp/classement/\" title=\"Position dans le classement\">Classement ATP</a>: <b>1</b><br/>            TOP position dans le classement: <b>1</b> (04.11.24, 11330 points)<br/>            Points: <b>11330</b><br/>            Primes: <b>17043434 $</b><br/>            Total de matchs: <b>483</b><br/>            Victoires: <b>348</b><br/>            Taux de réussite: <b>72.05 %</b><br/>\n",
      "</div>]\n"
     ]
    }
   ],
   "source": [
    "print(profil)"
   ]
  },
  {
   "cell_type": "code",
   "execution_count": null,
   "metadata": {},
   "outputs": [],
   "source": [
    "def genere_profil(profil):\n",
    "    div = profil[0]\n",
    "\n",
    "    try:\n",
    "        nom_joueur = div.find(\"a\").text.strip()\n",
    "        pays = div.find_all(\"b\")[1].text.strip()\n",
    "        naissance = div.find_all(\"b\")[2].text.strip()\n",
    "        classement_atp = div.find_all(\"b\")[3].text.strip()\n",
    "        points = div.find_all(\"b\")[5].text.strip()\n",
    "        primes = div.find_all(\"b\")[6].text.strip()\n",
    "        total_match = div.find_all(\"b\")[7].text.strip()\n",
    "        victoires = div.find_all(\"b\")[8].text.strip()\n",
    "        taux_reussite = div.find_all(\"b\")[9].text.strip()\n",
    "    \n",
    "    except (IndexError, AttributeError):\n",
    "        nom_joueur, pays, naissance, classement_atp, points, primes, total_match, victoires, taux_reussite =(\n",
    "            \"NA\",\n",
    "            \"NA\",\n",
    "            \"NA\",\n",
    "            \"NA\",\n",
    "            \"NA\",\n",
    "            \"NA\",\n",
    "            \"NA\",\n",
    "            \"NA\",\n",
    "            \"NA\",\n",
    "        )\n",
    "        \n",
    "    return Profil(\n",
    "        nom=nom_joueur,\n",
    "        pays=pays,\n",
    "        date_naissance=naissance,\n",
    "        classement_atp=classement_atp,\n",
    "        points=points,\n",
    "        primes=primes,\n",
    "        total_match=total_match,\n",
    "        victoires=victoires,\n",
    "        taux_reussite=taux_reussite,\n",
    "    )  \n"
   ]
  },
  {
   "cell_type": "code",
   "execution_count": 18,
   "metadata": {},
   "outputs": [
    {
     "data": {
      "text/plain": [
       "Profil(nom='Jannik Sinner', pays='Italy', date_naissance='16.08.01, 23 ans', classement_atp='1', points='11330', primes='17043434 $', total_match='483', victoires='348', taux_reussite='72.05 %')"
      ]
     },
     "execution_count": 18,
     "metadata": {},
     "output_type": "execute_result"
    }
   ],
   "source": [
    "Sinner_profil = genere_profil(profil)\n",
    "Sinner_profil"
   ]
  },
  {
   "cell_type": "markdown",
   "metadata": {},
   "source": [
    "## Statistiques"
   ]
  },
  {
   "cell_type": "code",
   "execution_count": 28,
   "metadata": {},
   "outputs": [],
   "source": [
    "def extraire_lignes(table):\n",
    "    return table.find_all(\n",
    "        \"tr\", class_=lambda class_name: class_name in [\"pair\", \"unpair\"]\n",
    "    )"
   ]
  },
  {
   "cell_type": "code",
   "execution_count": null,
   "metadata": {},
   "outputs": [],
   "source": [
    "def genere_statistiques(ligne):\n",
    "    colonnes = [td.text.strip() for td in ligne.find_all(\"td\")]\n",
    "    \n",
    "    if len(colonnes) == 8:\n",
    "        annee, sommaire, dure, terre_battue, salle, carpet, gazon, acryl = colonnes\n",
    "    else:\n",
    "        print(\"Format inattendu dans la ligne:\", colonnes)\n",
    "        return None\n",
    "\n",
    "    return Statistiques(\n",
    "        annee = annee,\n",
    "        sommaire = sommaire,\n",
    "        dure = dure,\n",
    "        terre_battue = terre_battue,\n",
    "        salle = salle,\n",
    "        carpet = carpet,\n",
    "        gazon = gazon,\n",
    "        acryl = acryl,\n",
    "    ) "
   ]
  },
  {
   "cell_type": "code",
   "execution_count": 25,
   "metadata": {},
   "outputs": [
    {
     "data": {
      "text/plain": [
       "bs4.element.Tag"
      ]
     },
     "execution_count": 25,
     "metadata": {},
     "output_type": "execute_result"
    }
   ],
   "source": [
    "type(statistiques[0])"
   ]
  },
  {
   "cell_type": "code",
   "execution_count": 22,
   "metadata": {},
   "outputs": [
    {
     "name": "stdout",
     "output_type": "stream",
     "text": [
      "[<table class=\"table_stats\">\n",
      "<tr class=\"header\"><td>année</td><td>sommaire</td><td><a href=\"?su=1\" rel=\"nofollow\" title=\"surface: dure\">dure</a></td><td><a href=\"?su=2\" rel=\"nofollow\" title=\"surface: terre battue\">terre battue</a></td><td><a href=\"?su=3\" rel=\"nofollow\" title=\"surface: salle\">salle</a></td><td><a href=\"?su=4\" rel=\"nofollow\" title=\"surface: carpet\">carpet</a></td><td><a href=\"?su=5\" rel=\"nofollow\" title=\"surface: gazon\">gazon</a></td><td><a href=\"?su=6\" rel=\"nofollow\" title=\"surface: acryl\">acryl</a></td></tr><tr class=\"pair\"><td><a href=\"?y=2024\" rel='\\\"nofollow\\\"' title=\"année: 2024\">2024</a></td><td>66/7</td><td><a href=\"?su=1&amp;y=2024\" rel=\"nofollow\" title=\"surface: dure, année: 2024, victoires: 41, défaites: 3, Taux de réussite: 93.18 %\">41/3</a></td><td><a href=\"?su=2&amp;y=2024\" rel=\"nofollow\" title=\"surface: terre battue, année: 2024, victoires: 11, défaites: 3, Taux de réussite: 78.57 %\">11/3</a></td><td><a href=\"?su=3&amp;y=2024\" rel=\"nofollow\" title=\"surface: salle, année: 2024, victoires: 5, défaites: 0, Taux de réussite: 100 %\">5/0</a></td><td><a href=\"?su=4&amp;y=2024\" rel=\"nofollow\" title=\"surface: carpet, année: 2024, victoires: 0, défaites: 0, Taux de réussite: 0 %\">0/0</a></td><td><a href=\"?su=5&amp;y=2024\" rel=\"nofollow\" title=\"surface: gazon, année: 2024, victoires: 9, défaites: 1, Taux de réussite: 90 %\">9/1</a></td><td><a href=\"?su=6&amp;y=2024\" rel=\"nofollow\" title=\"surface: acryl, année: 2024, victoires: 0, défaites: 0, Taux de réussite: 0 %\">0/0</a></td></tr><tr class=\"unpair\"><td><a href=\"?y=2023\" rel='\\\"nofollow\\\"' title=\"année: 2023\">2023</a></td><td>66/18</td><td><a href=\"?su=1&amp;y=2023\" rel=\"nofollow\" title=\"surface: dure, année: 2023, victoires: 29, défaites: 7, Taux de réussite: 80.56 %\">29/7</a></td><td><a href=\"?su=2&amp;y=2023\" rel=\"nofollow\" title=\"surface: terre battue, année: 2023, victoires: 8, défaites: 4, Taux de réussite: 66.67 %\">8/4</a></td><td><a href=\"?su=3&amp;y=2023\" rel=\"nofollow\" title=\"surface: salle, année: 2023, victoires: 21, défaites: 4, Taux de réussite: 84 %\">21/4</a></td><td><a href=\"?su=4&amp;y=2023\" rel=\"nofollow\" title=\"surface: carpet, année: 2023, victoires: 0, défaites: 0, Taux de réussite: 0 %\">0/0</a></td><td><a href=\"?su=5&amp;y=2023\" rel=\"nofollow\" title=\"surface: gazon, année: 2023, victoires: 8, défaites: 3, Taux de réussite: 72.73 %\">8/3</a></td><td><a href=\"?su=6&amp;y=2023\" rel=\"nofollow\" title=\"surface: acryl, année: 2023, victoires: 0, défaites: 0, Taux de réussite: 0 %\">0/0</a></td></tr><tr class=\"pair\"><td><a href=\"?y=2022\" rel='\\\"nofollow\\\"' title=\"année: 2022\">2022</a></td><td>47/17</td><td><a href=\"?su=1&amp;y=2022\" rel=\"nofollow\" title=\"surface: dure, année: 2022, victoires: 21, défaites: 7, Taux de réussite: 75 %\">21/7</a></td><td><a href=\"?su=2&amp;y=2022\" rel=\"nofollow\" title=\"surface: terre battue, année: 2022, victoires: 15, défaites: 4, Taux de réussite: 78.95 %\">15/4</a></td><td><a href=\"?su=3&amp;y=2022\" rel=\"nofollow\" title=\"surface: salle, année: 2022, victoires: 7, défaites: 4, Taux de réussite: 63.64 %\">7/4</a></td><td><a href=\"?su=4&amp;y=2022\" rel=\"nofollow\" title=\"surface: carpet, année: 2022, victoires: 0, défaites: 0, Taux de réussite: 0 %\">0/0</a></td><td><a href=\"?su=5&amp;y=2022\" rel=\"nofollow\" title=\"surface: gazon, année: 2022, victoires: 4, défaites: 2, Taux de réussite: 66.67 %\">4/2</a></td><td><a href=\"?su=6&amp;y=2022\" rel=\"nofollow\" title=\"surface: acryl, année: 2022, victoires: 0, défaites: 0, Taux de réussite: 0 %\">0/0</a></td></tr><tr class=\"unpair\"><td><a href=\"?y=2021\" rel='\\\"nofollow\\\"' title=\"année: 2021\">2021</a></td><td>50/24</td><td><a href=\"?su=1&amp;y=2021\" rel=\"nofollow\" title=\"surface: dure, année: 2021, victoires: 23, défaites: 10, Taux de réussite: 69.7 %\">23/10</a></td><td><a href=\"?su=2&amp;y=2021\" rel=\"nofollow\" title=\"surface: terre battue, année: 2021, victoires: 10, défaites: 6, Taux de réussite: 62.5 %\">10/6</a></td><td><a href=\"?su=3&amp;y=2021\" rel=\"nofollow\" title=\"surface: salle, année: 2021, victoires: 17, défaites: 6, Taux de réussite: 73.91 %\">17/6</a></td><td><a href=\"?su=4&amp;y=2021\" rel=\"nofollow\" title=\"surface: carpet, année: 2021, victoires: 0, défaites: 0, Taux de réussite: 0 %\">0/0</a></td><td><a href=\"?su=5&amp;y=2021\" rel=\"nofollow\" title=\"surface: gazon, année: 2021, victoires: 0, défaites: 2, Taux de réussite: 0 %\">0/2</a></td><td><a href=\"?su=6&amp;y=2021\" rel=\"nofollow\" title=\"surface: acryl, année: 2021, victoires: 0, défaites: 0, Taux de réussite: 0 %\">0/0</a></td></tr><tr class=\"pair\"><td><a href=\"?y=2020\" rel='\\\"nofollow\\\"' title=\"année: 2020\">2020</a></td><td>24/16</td><td><a href=\"?su=1&amp;y=2020\" rel=\"nofollow\" title=\"surface: dure, année: 2020, victoires: 2, défaites: 6, Taux de réussite: 25 %\">2/6</a></td><td><a href=\"?su=2&amp;y=2020\" rel=\"nofollow\" title=\"surface: terre battue, année: 2020, victoires: 10, défaites: 5, Taux de réussite: 66.67 %\">10/5</a></td><td><a href=\"?su=3&amp;y=2020\" rel=\"nofollow\" title=\"surface: salle, année: 2020, victoires: 12, défaites: 5, Taux de réussite: 70.59 %\">12/5</a></td><td><a href=\"?su=4&amp;y=2020\" rel=\"nofollow\" title=\"surface: carpet, année: 2020, victoires: 0, défaites: 0, Taux de réussite: 0 %\">0/0</a></td><td><a href=\"?su=5&amp;y=2020\" rel=\"nofollow\" title=\"surface: gazon, année: 2020, victoires: 0, défaites: 0, Taux de réussite: 0 %\">0/0</a></td><td><a href=\"?su=6&amp;y=2020\" rel=\"nofollow\" title=\"surface: acryl, année: 2020, victoires: 0, défaites: 0, Taux de réussite: 0 %\">0/0</a></td></tr><tr class=\"unpair\"><td><a href=\"?y=2019\" rel='\\\"nofollow\\\"' title=\"année: 2019\">2019</a></td><td>62/24</td><td><a href=\"?su=1&amp;y=2019\" rel=\"nofollow\" title=\"surface: dure, année: 2019, victoires: 12, défaites: 6, Taux de réussite: 66.67 %\">12/6</a></td><td><a href=\"?su=2&amp;y=2019\" rel=\"nofollow\" title=\"surface: terre battue, année: 2019, victoires: 17, défaites: 8, Taux de réussite: 68 %\">17/8</a></td><td><a href=\"?su=3&amp;y=2019\" rel=\"nofollow\" title=\"surface: salle, année: 2019, victoires: 31, défaites: 7, Taux de réussite: 81.58 %\">31/7</a></td><td><a href=\"?su=4&amp;y=2019\" rel=\"nofollow\" title=\"surface: carpet, année: 2019, victoires: 0, défaites: 0, Taux de réussite: 0 %\">0/0</a></td><td><a href=\"?su=5&amp;y=2019\" rel=\"nofollow\" title=\"surface: gazon, année: 2019, victoires: 2, défaites: 3, Taux de réussite: 40 %\">2/3</a></td><td><a href=\"?su=6&amp;y=2019\" rel=\"nofollow\" title=\"surface: acryl, année: 2019, victoires: 0, défaites: 0, Taux de réussite: 0 %\">0/0</a></td></tr><tr class=\"pair\"><td><a href=\"?y=2018\" rel='\\\"nofollow\\\"' title=\"année: 2018\">2018</a></td><td>31/23</td><td><a href=\"?su=1&amp;y=2018\" rel=\"nofollow\" title=\"surface: dure, année: 2018, victoires: 13, défaites: 9, Taux de réussite: 59.09 %\">13/9</a></td><td><a href=\"?su=2&amp;y=2018\" rel=\"nofollow\" title=\"surface: terre battue, année: 2018, victoires: 17, défaites: 12, Taux de réussite: 58.62 %\">17/12</a></td><td><a href=\"?su=3&amp;y=2018\" rel=\"nofollow\" title=\"surface: salle, année: 2018, victoires: 1, défaites: 1, Taux de réussite: 50 %\">1/1</a></td><td><a href=\"?su=4&amp;y=2018\" rel=\"nofollow\" title=\"surface: carpet, année: 2018, victoires: 0, défaites: 1, Taux de réussite: 0 %\">0/1</a></td><td><a href=\"?su=5&amp;y=2018\" rel=\"nofollow\" title=\"surface: gazon, année: 2018, victoires: 0, défaites: 0, Taux de réussite: 0 %\">0/0</a></td><td><a href=\"?su=6&amp;y=2018\" rel=\"nofollow\" title=\"surface: acryl, année: 2018, victoires: 0, défaites: 0, Taux de réussite: 0 %\">0/0</a></td></tr><tr class=\"unpair\"><td><a href=\"?y=2017\" rel='\\\"nofollow\\\"' title=\"année: 2017\">2017</a></td><td>1/2</td><td><a href=\"?su=1&amp;y=2017\" rel=\"nofollow\" title=\"surface: dure, année: 2017, victoires: 0, défaites: 0, Taux de réussite: 0 %\">0/0</a></td><td><a href=\"?su=2&amp;y=2017\" rel=\"nofollow\" title=\"surface: terre battue, année: 2017, victoires: 1, défaites: 2, Taux de réussite: 33.33 %\">1/2</a></td><td><a href=\"?su=3&amp;y=2017\" rel=\"nofollow\" title=\"surface: salle, année: 2017, victoires: 0, défaites: 0, Taux de réussite: 0 %\">0/0</a></td><td><a href=\"?su=4&amp;y=2017\" rel=\"nofollow\" title=\"surface: carpet, année: 2017, victoires: 0, défaites: 0, Taux de réussite: 0 %\">0/0</a></td><td><a href=\"?su=5&amp;y=2017\" rel=\"nofollow\" title=\"surface: gazon, année: 2017, victoires: 0, défaites: 0, Taux de réussite: 0 %\">0/0</a></td><td><a href=\"?su=6&amp;y=2017\" rel=\"nofollow\" title=\"surface: acryl, année: 2017, victoires: 0, défaites: 0, Taux de réussite: 0 %\">0/0</a></td></tr><tr class=\"pair\"><td><a href=\"?y=2016\" rel='\\\"nofollow\\\"' title=\"année: 2016\">2016</a></td><td>1/2</td><td><a href=\"?su=1&amp;y=2016\" rel=\"nofollow\" title=\"surface: dure, année: 2016, victoires: 0, défaites: 0, Taux de réussite: 0 %\">0/0</a></td><td><a href=\"?su=2&amp;y=2016\" rel=\"nofollow\" title=\"surface: terre battue, année: 2016, victoires: 1, défaites: 2, Taux de réussite: 33.33 %\">1/2</a></td><td><a href=\"?su=3&amp;y=2016\" rel=\"nofollow\" title=\"surface: salle, année: 2016, victoires: 0, défaites: 0, Taux de réussite: 0 %\">0/0</a></td><td><a href=\"?su=4&amp;y=2016\" rel=\"nofollow\" title=\"surface: carpet, année: 2016, victoires: 0, défaites: 0, Taux de réussite: 0 %\">0/0</a></td><td><a href=\"?su=5&amp;y=2016\" rel=\"nofollow\" title=\"surface: gazon, année: 2016, victoires: 0, défaites: 0, Taux de réussite: 0 %\">0/0</a></td><td><a href=\"?su=6&amp;y=2016\" rel=\"nofollow\" title=\"surface: acryl, année: 2016, victoires: 0, défaites: 0, Taux de réussite: 0 %\">0/0</a></td></tr><tr class=\"unpair\"><td><a href=\"?y=2015\" rel='\\\"nofollow\\\"' title=\"année: 2015\">2015</a></td><td>0/2</td><td><a href=\"?su=1&amp;y=2015\" rel=\"nofollow\" title=\"surface: dure, année: 2015, victoires: 0, défaites: 0, Taux de réussite: 0 %\">0/0</a></td><td><a href=\"?su=2&amp;y=2015\" rel=\"nofollow\" title=\"surface: terre battue, année: 2015, victoires: 0, défaites: 2, Taux de réussite: 0 %\">0/2</a></td><td><a href=\"?su=3&amp;y=2015\" rel=\"nofollow\" title=\"surface: salle, année: 2015, victoires: 0, défaites: 0, Taux de réussite: 0 %\">0/0</a></td><td><a href=\"?su=4&amp;y=2015\" rel=\"nofollow\" title=\"surface: carpet, année: 2015, victoires: 0, défaites: 0, Taux de réussite: 0 %\">0/0</a></td><td><a href=\"?su=5&amp;y=2015\" rel=\"nofollow\" title=\"surface: gazon, année: 2015, victoires: 0, défaites: 0, Taux de réussite: 0 %\">0/0</a></td><td><a href=\"?su=6&amp;y=2015\" rel=\"nofollow\" title=\"surface: acryl, année: 2015, victoires: 0, défaites: 0, Taux de réussite: 0 %\">0/0</a></td></tr><tr class=\"footer\"><td><b>TOTAL</b></td><td>348/135</td><td><a href=\"?su=1\" rel='\\\"nofollow\\\"' title=\"surface: dure\">141/48</a></td><td><a href=\"?su=2\" rel='\\\"nofollow\\\"' title=\"surface: terre battue\">90/48</a></td><td><a href=\"?su=3\" rel='\\\"nofollow\\\"' title=\"surface: salle\">94/27</a></td><td><a href=\"?su=4\" rel='\\\"nofollow\\\"' title=\"surface: carpet\">0/1</a></td><td><a href=\"?su=5\" rel='\\\"nofollow\\\"' title=\"surface: gazon\">23/11</a></td><td><a href=\"?su=6\" rel='\\\"nofollow\\\"' title=\"surface: acryl\">0/0</a></td></tr><tr class=\"footer1\"><td>réus. %</td><td>72.05 %</td><td>74.6 %</td><td>65.22 %</td><td>77.69 %</td><td>0 %</td><td>67.65 %</td><td>0 %</td></tr>\n",
      "</table>]\n"
     ]
    }
   ],
   "source": [
    "print(statistiques)"
   ]
  },
  {
   "cell_type": "code",
   "execution_count": 39,
   "metadata": {},
   "outputs": [
    {
     "data": {
      "text/plain": [
       "[<tr class=\"pair\"><td><a href=\"?y=2024\" rel='\\\"nofollow\\\"' title=\"année: 2024\">2024</a></td><td>66/7</td><td><a href=\"?su=1&amp;y=2024\" rel=\"nofollow\" title=\"surface: dure, année: 2024, victoires: 41, défaites: 3, Taux de réussite: 93.18 %\">41/3</a></td><td><a href=\"?su=2&amp;y=2024\" rel=\"nofollow\" title=\"surface: terre battue, année: 2024, victoires: 11, défaites: 3, Taux de réussite: 78.57 %\">11/3</a></td><td><a href=\"?su=3&amp;y=2024\" rel=\"nofollow\" title=\"surface: salle, année: 2024, victoires: 5, défaites: 0, Taux de réussite: 100 %\">5/0</a></td><td><a href=\"?su=4&amp;y=2024\" rel=\"nofollow\" title=\"surface: carpet, année: 2024, victoires: 0, défaites: 0, Taux de réussite: 0 %\">0/0</a></td><td><a href=\"?su=5&amp;y=2024\" rel=\"nofollow\" title=\"surface: gazon, année: 2024, victoires: 9, défaites: 1, Taux de réussite: 90 %\">9/1</a></td><td><a href=\"?su=6&amp;y=2024\" rel=\"nofollow\" title=\"surface: acryl, année: 2024, victoires: 0, défaites: 0, Taux de réussite: 0 %\">0/0</a></td></tr>,\n",
       " <tr class=\"unpair\"><td><a href=\"?y=2023\" rel='\\\"nofollow\\\"' title=\"année: 2023\">2023</a></td><td>66/18</td><td><a href=\"?su=1&amp;y=2023\" rel=\"nofollow\" title=\"surface: dure, année: 2023, victoires: 29, défaites: 7, Taux de réussite: 80.56 %\">29/7</a></td><td><a href=\"?su=2&amp;y=2023\" rel=\"nofollow\" title=\"surface: terre battue, année: 2023, victoires: 8, défaites: 4, Taux de réussite: 66.67 %\">8/4</a></td><td><a href=\"?su=3&amp;y=2023\" rel=\"nofollow\" title=\"surface: salle, année: 2023, victoires: 21, défaites: 4, Taux de réussite: 84 %\">21/4</a></td><td><a href=\"?su=4&amp;y=2023\" rel=\"nofollow\" title=\"surface: carpet, année: 2023, victoires: 0, défaites: 0, Taux de réussite: 0 %\">0/0</a></td><td><a href=\"?su=5&amp;y=2023\" rel=\"nofollow\" title=\"surface: gazon, année: 2023, victoires: 8, défaites: 3, Taux de réussite: 72.73 %\">8/3</a></td><td><a href=\"?su=6&amp;y=2023\" rel=\"nofollow\" title=\"surface: acryl, année: 2023, victoires: 0, défaites: 0, Taux de réussite: 0 %\">0/0</a></td></tr>,\n",
       " <tr class=\"pair\"><td><a href=\"?y=2022\" rel='\\\"nofollow\\\"' title=\"année: 2022\">2022</a></td><td>47/17</td><td><a href=\"?su=1&amp;y=2022\" rel=\"nofollow\" title=\"surface: dure, année: 2022, victoires: 21, défaites: 7, Taux de réussite: 75 %\">21/7</a></td><td><a href=\"?su=2&amp;y=2022\" rel=\"nofollow\" title=\"surface: terre battue, année: 2022, victoires: 15, défaites: 4, Taux de réussite: 78.95 %\">15/4</a></td><td><a href=\"?su=3&amp;y=2022\" rel=\"nofollow\" title=\"surface: salle, année: 2022, victoires: 7, défaites: 4, Taux de réussite: 63.64 %\">7/4</a></td><td><a href=\"?su=4&amp;y=2022\" rel=\"nofollow\" title=\"surface: carpet, année: 2022, victoires: 0, défaites: 0, Taux de réussite: 0 %\">0/0</a></td><td><a href=\"?su=5&amp;y=2022\" rel=\"nofollow\" title=\"surface: gazon, année: 2022, victoires: 4, défaites: 2, Taux de réussite: 66.67 %\">4/2</a></td><td><a href=\"?su=6&amp;y=2022\" rel=\"nofollow\" title=\"surface: acryl, année: 2022, victoires: 0, défaites: 0, Taux de réussite: 0 %\">0/0</a></td></tr>,\n",
       " <tr class=\"unpair\"><td><a href=\"?y=2021\" rel='\\\"nofollow\\\"' title=\"année: 2021\">2021</a></td><td>50/24</td><td><a href=\"?su=1&amp;y=2021\" rel=\"nofollow\" title=\"surface: dure, année: 2021, victoires: 23, défaites: 10, Taux de réussite: 69.7 %\">23/10</a></td><td><a href=\"?su=2&amp;y=2021\" rel=\"nofollow\" title=\"surface: terre battue, année: 2021, victoires: 10, défaites: 6, Taux de réussite: 62.5 %\">10/6</a></td><td><a href=\"?su=3&amp;y=2021\" rel=\"nofollow\" title=\"surface: salle, année: 2021, victoires: 17, défaites: 6, Taux de réussite: 73.91 %\">17/6</a></td><td><a href=\"?su=4&amp;y=2021\" rel=\"nofollow\" title=\"surface: carpet, année: 2021, victoires: 0, défaites: 0, Taux de réussite: 0 %\">0/0</a></td><td><a href=\"?su=5&amp;y=2021\" rel=\"nofollow\" title=\"surface: gazon, année: 2021, victoires: 0, défaites: 2, Taux de réussite: 0 %\">0/2</a></td><td><a href=\"?su=6&amp;y=2021\" rel=\"nofollow\" title=\"surface: acryl, année: 2021, victoires: 0, défaites: 0, Taux de réussite: 0 %\">0/0</a></td></tr>,\n",
       " <tr class=\"pair\"><td><a href=\"?y=2020\" rel='\\\"nofollow\\\"' title=\"année: 2020\">2020</a></td><td>24/16</td><td><a href=\"?su=1&amp;y=2020\" rel=\"nofollow\" title=\"surface: dure, année: 2020, victoires: 2, défaites: 6, Taux de réussite: 25 %\">2/6</a></td><td><a href=\"?su=2&amp;y=2020\" rel=\"nofollow\" title=\"surface: terre battue, année: 2020, victoires: 10, défaites: 5, Taux de réussite: 66.67 %\">10/5</a></td><td><a href=\"?su=3&amp;y=2020\" rel=\"nofollow\" title=\"surface: salle, année: 2020, victoires: 12, défaites: 5, Taux de réussite: 70.59 %\">12/5</a></td><td><a href=\"?su=4&amp;y=2020\" rel=\"nofollow\" title=\"surface: carpet, année: 2020, victoires: 0, défaites: 0, Taux de réussite: 0 %\">0/0</a></td><td><a href=\"?su=5&amp;y=2020\" rel=\"nofollow\" title=\"surface: gazon, année: 2020, victoires: 0, défaites: 0, Taux de réussite: 0 %\">0/0</a></td><td><a href=\"?su=6&amp;y=2020\" rel=\"nofollow\" title=\"surface: acryl, année: 2020, victoires: 0, défaites: 0, Taux de réussite: 0 %\">0/0</a></td></tr>,\n",
       " <tr class=\"unpair\"><td><a href=\"?y=2019\" rel='\\\"nofollow\\\"' title=\"année: 2019\">2019</a></td><td>62/24</td><td><a href=\"?su=1&amp;y=2019\" rel=\"nofollow\" title=\"surface: dure, année: 2019, victoires: 12, défaites: 6, Taux de réussite: 66.67 %\">12/6</a></td><td><a href=\"?su=2&amp;y=2019\" rel=\"nofollow\" title=\"surface: terre battue, année: 2019, victoires: 17, défaites: 8, Taux de réussite: 68 %\">17/8</a></td><td><a href=\"?su=3&amp;y=2019\" rel=\"nofollow\" title=\"surface: salle, année: 2019, victoires: 31, défaites: 7, Taux de réussite: 81.58 %\">31/7</a></td><td><a href=\"?su=4&amp;y=2019\" rel=\"nofollow\" title=\"surface: carpet, année: 2019, victoires: 0, défaites: 0, Taux de réussite: 0 %\">0/0</a></td><td><a href=\"?su=5&amp;y=2019\" rel=\"nofollow\" title=\"surface: gazon, année: 2019, victoires: 2, défaites: 3, Taux de réussite: 40 %\">2/3</a></td><td><a href=\"?su=6&amp;y=2019\" rel=\"nofollow\" title=\"surface: acryl, année: 2019, victoires: 0, défaites: 0, Taux de réussite: 0 %\">0/0</a></td></tr>,\n",
       " <tr class=\"pair\"><td><a href=\"?y=2018\" rel='\\\"nofollow\\\"' title=\"année: 2018\">2018</a></td><td>31/23</td><td><a href=\"?su=1&amp;y=2018\" rel=\"nofollow\" title=\"surface: dure, année: 2018, victoires: 13, défaites: 9, Taux de réussite: 59.09 %\">13/9</a></td><td><a href=\"?su=2&amp;y=2018\" rel=\"nofollow\" title=\"surface: terre battue, année: 2018, victoires: 17, défaites: 12, Taux de réussite: 58.62 %\">17/12</a></td><td><a href=\"?su=3&amp;y=2018\" rel=\"nofollow\" title=\"surface: salle, année: 2018, victoires: 1, défaites: 1, Taux de réussite: 50 %\">1/1</a></td><td><a href=\"?su=4&amp;y=2018\" rel=\"nofollow\" title=\"surface: carpet, année: 2018, victoires: 0, défaites: 1, Taux de réussite: 0 %\">0/1</a></td><td><a href=\"?su=5&amp;y=2018\" rel=\"nofollow\" title=\"surface: gazon, année: 2018, victoires: 0, défaites: 0, Taux de réussite: 0 %\">0/0</a></td><td><a href=\"?su=6&amp;y=2018\" rel=\"nofollow\" title=\"surface: acryl, année: 2018, victoires: 0, défaites: 0, Taux de réussite: 0 %\">0/0</a></td></tr>,\n",
       " <tr class=\"unpair\"><td><a href=\"?y=2017\" rel='\\\"nofollow\\\"' title=\"année: 2017\">2017</a></td><td>1/2</td><td><a href=\"?su=1&amp;y=2017\" rel=\"nofollow\" title=\"surface: dure, année: 2017, victoires: 0, défaites: 0, Taux de réussite: 0 %\">0/0</a></td><td><a href=\"?su=2&amp;y=2017\" rel=\"nofollow\" title=\"surface: terre battue, année: 2017, victoires: 1, défaites: 2, Taux de réussite: 33.33 %\">1/2</a></td><td><a href=\"?su=3&amp;y=2017\" rel=\"nofollow\" title=\"surface: salle, année: 2017, victoires: 0, défaites: 0, Taux de réussite: 0 %\">0/0</a></td><td><a href=\"?su=4&amp;y=2017\" rel=\"nofollow\" title=\"surface: carpet, année: 2017, victoires: 0, défaites: 0, Taux de réussite: 0 %\">0/0</a></td><td><a href=\"?su=5&amp;y=2017\" rel=\"nofollow\" title=\"surface: gazon, année: 2017, victoires: 0, défaites: 0, Taux de réussite: 0 %\">0/0</a></td><td><a href=\"?su=6&amp;y=2017\" rel=\"nofollow\" title=\"surface: acryl, année: 2017, victoires: 0, défaites: 0, Taux de réussite: 0 %\">0/0</a></td></tr>,\n",
       " <tr class=\"pair\"><td><a href=\"?y=2016\" rel='\\\"nofollow\\\"' title=\"année: 2016\">2016</a></td><td>1/2</td><td><a href=\"?su=1&amp;y=2016\" rel=\"nofollow\" title=\"surface: dure, année: 2016, victoires: 0, défaites: 0, Taux de réussite: 0 %\">0/0</a></td><td><a href=\"?su=2&amp;y=2016\" rel=\"nofollow\" title=\"surface: terre battue, année: 2016, victoires: 1, défaites: 2, Taux de réussite: 33.33 %\">1/2</a></td><td><a href=\"?su=3&amp;y=2016\" rel=\"nofollow\" title=\"surface: salle, année: 2016, victoires: 0, défaites: 0, Taux de réussite: 0 %\">0/0</a></td><td><a href=\"?su=4&amp;y=2016\" rel=\"nofollow\" title=\"surface: carpet, année: 2016, victoires: 0, défaites: 0, Taux de réussite: 0 %\">0/0</a></td><td><a href=\"?su=5&amp;y=2016\" rel=\"nofollow\" title=\"surface: gazon, année: 2016, victoires: 0, défaites: 0, Taux de réussite: 0 %\">0/0</a></td><td><a href=\"?su=6&amp;y=2016\" rel=\"nofollow\" title=\"surface: acryl, année: 2016, victoires: 0, défaites: 0, Taux de réussite: 0 %\">0/0</a></td></tr>,\n",
       " <tr class=\"unpair\"><td><a href=\"?y=2015\" rel='\\\"nofollow\\\"' title=\"année: 2015\">2015</a></td><td>0/2</td><td><a href=\"?su=1&amp;y=2015\" rel=\"nofollow\" title=\"surface: dure, année: 2015, victoires: 0, défaites: 0, Taux de réussite: 0 %\">0/0</a></td><td><a href=\"?su=2&amp;y=2015\" rel=\"nofollow\" title=\"surface: terre battue, année: 2015, victoires: 0, défaites: 2, Taux de réussite: 0 %\">0/2</a></td><td><a href=\"?su=3&amp;y=2015\" rel=\"nofollow\" title=\"surface: salle, année: 2015, victoires: 0, défaites: 0, Taux de réussite: 0 %\">0/0</a></td><td><a href=\"?su=4&amp;y=2015\" rel=\"nofollow\" title=\"surface: carpet, année: 2015, victoires: 0, défaites: 0, Taux de réussite: 0 %\">0/0</a></td><td><a href=\"?su=5&amp;y=2015\" rel=\"nofollow\" title=\"surface: gazon, année: 2015, victoires: 0, défaites: 0, Taux de réussite: 0 %\">0/0</a></td><td><a href=\"?su=6&amp;y=2015\" rel=\"nofollow\" title=\"surface: acryl, année: 2015, victoires: 0, défaites: 0, Taux de réussite: 0 %\">0/0</a></td></tr>]"
      ]
     },
     "execution_count": 39,
     "metadata": {},
     "output_type": "execute_result"
    }
   ],
   "source": [
    "lignes_stats = extraire_lignes(statistiques[0])\n",
    "lignes_stats"
   ]
  },
  {
   "cell_type": "code",
   "execution_count": 40,
   "metadata": {},
   "outputs": [],
   "source": [
    "Sinner_statistiques = [genere_statistiques(ligne) for ligne in lignes_stats if genere_statistiques(ligne)]"
   ]
  },
  {
   "cell_type": "code",
   "execution_count": 41,
   "metadata": {},
   "outputs": [
    {
     "data": {
      "text/plain": [
       "[Statistiques(annee='2024', sommaire='66/7', dure='41/3', terre_battue='11/3', salle='5/0', carpet='0/0', gazon='9/1', acryl='0/0'),\n",
       " Statistiques(annee='2023', sommaire='66/18', dure='29/7', terre_battue='8/4', salle='21/4', carpet='0/0', gazon='8/3', acryl='0/0'),\n",
       " Statistiques(annee='2022', sommaire='47/17', dure='21/7', terre_battue='15/4', salle='7/4', carpet='0/0', gazon='4/2', acryl='0/0'),\n",
       " Statistiques(annee='2021', sommaire='50/24', dure='23/10', terre_battue='10/6', salle='17/6', carpet='0/0', gazon='0/2', acryl='0/0'),\n",
       " Statistiques(annee='2020', sommaire='24/16', dure='2/6', terre_battue='10/5', salle='12/5', carpet='0/0', gazon='0/0', acryl='0/0'),\n",
       " Statistiques(annee='2019', sommaire='62/24', dure='12/6', terre_battue='17/8', salle='31/7', carpet='0/0', gazon='2/3', acryl='0/0'),\n",
       " Statistiques(annee='2018', sommaire='31/23', dure='13/9', terre_battue='17/12', salle='1/1', carpet='0/1', gazon='0/0', acryl='0/0'),\n",
       " Statistiques(annee='2017', sommaire='1/2', dure='0/0', terre_battue='1/2', salle='0/0', carpet='0/0', gazon='0/0', acryl='0/0'),\n",
       " Statistiques(annee='2016', sommaire='1/2', dure='0/0', terre_battue='1/2', salle='0/0', carpet='0/0', gazon='0/0', acryl='0/0'),\n",
       " Statistiques(annee='2015', sommaire='0/2', dure='0/0', terre_battue='0/2', salle='0/0', carpet='0/0', gazon='0/0', acryl='0/0')]"
      ]
     },
     "execution_count": 41,
     "metadata": {},
     "output_type": "execute_result"
    }
   ],
   "source": [
    "Sinner_statistiques"
   ]
  },
  {
   "cell_type": "markdown",
   "metadata": {},
   "source": [
    "## Matchs"
   ]
  },
  {
   "cell_type": "code",
   "execution_count": 42,
   "metadata": {},
   "outputs": [
    {
     "data": {
      "text/plain": [
       "bs4.element.Tag"
      ]
     },
     "execution_count": 42,
     "metadata": {},
     "output_type": "execute_result"
    }
   ],
   "source": [
    "type(derniers_match)"
   ]
  },
  {
   "cell_type": "markdown",
   "metadata": {},
   "source": [
    "# Récupération des stats de tous les joueurs"
   ]
  },
  {
   "cell_type": "code",
   "execution_count": 6,
   "metadata": {},
   "outputs": [],
   "source": [
    "def get_page_joueur(liste_lien_joueur):\n",
    "    for lien in liste_lien_joueur:\n",
    "        reponse = get(lien)\n",
    "        print(lien, reponse.status_code)\n",
    "        assert reponse.status_code == 200\n",
    "        time.sleep(2)"
   ]
  },
  {
   "cell_type": "code",
   "execution_count": 8,
   "metadata": {},
   "outputs": [
    {
     "name": "stdout",
     "output_type": "stream",
     "text": [
      "https://www.tennisendirect.net/atp/jannik-sinner/ 200\n"
     ]
    },
    {
     "ename": "KeyboardInterrupt",
     "evalue": "",
     "output_type": "error",
     "traceback": [
      "\u001b[1;31m---------------------------------------------------------------------------\u001b[0m",
      "\u001b[1;31mKeyboardInterrupt\u001b[0m                         Traceback (most recent call last)",
      "Cell \u001b[1;32mIn[8], line 1\u001b[0m\n\u001b[1;32m----> 1\u001b[0m \u001b[43mget_page_joueur\u001b[49m\u001b[43m(\u001b[49m\u001b[43mliens_joueurs\u001b[49m\u001b[43m)\u001b[49m\n",
      "Cell \u001b[1;32mIn[7], line 6\u001b[0m, in \u001b[0;36mget_page_joueur\u001b[1;34m(liste_lien_joueur)\u001b[0m\n\u001b[0;32m      4\u001b[0m \u001b[38;5;28mprint\u001b[39m(lien, reponse\u001b[38;5;241m.\u001b[39mstatus_code)\n\u001b[0;32m      5\u001b[0m \u001b[38;5;28;01massert\u001b[39;00m reponse\u001b[38;5;241m.\u001b[39mstatus_code \u001b[38;5;241m==\u001b[39m \u001b[38;5;241m200\u001b[39m\n\u001b[1;32m----> 6\u001b[0m \u001b[43mtime\u001b[49m\u001b[38;5;241;43m.\u001b[39;49m\u001b[43msleep\u001b[49m\u001b[43m(\u001b[49m\u001b[38;5;241;43m2\u001b[39;49m\u001b[43m)\u001b[49m\n",
      "\u001b[1;31mKeyboardInterrupt\u001b[0m: "
     ]
    }
   ],
   "source": [
    "get_page_joueur(liens_joueurs)"
   ]
  }
 ],
 "metadata": {
  "kernelspec": {
   "display_name": "env",
   "language": "python",
   "name": "python3"
  },
  "language_info": {
   "codemirror_mode": {
    "name": "ipython",
    "version": 3
   },
   "file_extension": ".py",
   "mimetype": "text/x-python",
   "name": "python",
   "nbconvert_exporter": "python",
   "pygments_lexer": "ipython3",
   "version": "3.12.7"
  }
 },
 "nbformat": 4,
 "nbformat_minor": 2
}
